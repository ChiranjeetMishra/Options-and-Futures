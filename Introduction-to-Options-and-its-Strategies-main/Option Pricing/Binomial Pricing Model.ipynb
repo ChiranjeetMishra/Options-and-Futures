{
 "cells": [
  {
   "cell_type": "markdown",
   "metadata": {},
   "source": [
    "# Binomial Pricing model"
   ]
  },
  {
   "cell_type": "markdown",
   "metadata": {},
   "source": [
    "https://www.investopedia.com/terms/b/binomialoptionpricing.asp"
   ]
  },
  {
   "cell_type": "markdown",
   "metadata": {},
   "source": [
    "## Importing important libraries"
   ]
  },
  {
   "cell_type": "code",
   "execution_count": 1,
   "metadata": {},
   "outputs": [],
   "source": [
    "import pandas as pd\n",
    "import matplotlib.pyplot as plt\n",
    "import numpy as np\n",
    "\n",
    "from datetime import date\n",
    "\n",
    "import warnings\n",
    "warnings.filterwarnings(\"ignore\")\n",
    "\n",
    "# to fetch data \n",
    "import yfinance as yf\n",
    "\n",
    "import scipy.stats as ss"
   ]
  },
  {
   "cell_type": "markdown",
   "metadata": {},
   "source": [
    "## Importing data"
   ]
  },
  {
   "cell_type": "code",
   "execution_count": 2,
   "metadata": {},
   "outputs": [
    {
     "name": "stdout",
     "output_type": "stream",
     "text": [
      "[*********************100%***********************]  1 of 1 completed\n"
     ]
    },
    {
     "data": {
      "text/html": [
       "<div>\n",
       "<style scoped>\n",
       "    .dataframe tbody tr th:only-of-type {\n",
       "        vertical-align: middle;\n",
       "    }\n",
       "\n",
       "    .dataframe tbody tr th {\n",
       "        vertical-align: top;\n",
       "    }\n",
       "\n",
       "    .dataframe thead th {\n",
       "        text-align: right;\n",
       "    }\n",
       "</style>\n",
       "<table border=\"1\" class=\"dataframe\">\n",
       "  <thead>\n",
       "    <tr style=\"text-align: right;\">\n",
       "      <th></th>\n",
       "      <th>Open</th>\n",
       "      <th>High</th>\n",
       "      <th>Low</th>\n",
       "      <th>Close</th>\n",
       "      <th>Adj Close</th>\n",
       "      <th>Volume</th>\n",
       "    </tr>\n",
       "    <tr>\n",
       "      <th>Date</th>\n",
       "      <th></th>\n",
       "      <th></th>\n",
       "      <th></th>\n",
       "      <th></th>\n",
       "      <th></th>\n",
       "      <th></th>\n",
       "    </tr>\n",
       "  </thead>\n",
       "  <tbody>\n",
       "    <tr>\n",
       "      <th>2021-07-14</th>\n",
       "      <td>148.100006</td>\n",
       "      <td>149.570007</td>\n",
       "      <td>147.679993</td>\n",
       "      <td>149.149994</td>\n",
       "      <td>149.149994</td>\n",
       "      <td>127050800</td>\n",
       "    </tr>\n",
       "    <tr>\n",
       "      <th>2021-07-15</th>\n",
       "      <td>149.240005</td>\n",
       "      <td>150.000000</td>\n",
       "      <td>147.089996</td>\n",
       "      <td>148.479996</td>\n",
       "      <td>148.479996</td>\n",
       "      <td>106820300</td>\n",
       "    </tr>\n",
       "    <tr>\n",
       "      <th>2021-07-16</th>\n",
       "      <td>148.460007</td>\n",
       "      <td>149.759995</td>\n",
       "      <td>145.880005</td>\n",
       "      <td>146.389999</td>\n",
       "      <td>146.389999</td>\n",
       "      <td>93100300</td>\n",
       "    </tr>\n",
       "    <tr>\n",
       "      <th>2021-07-19</th>\n",
       "      <td>143.750000</td>\n",
       "      <td>144.070007</td>\n",
       "      <td>141.669998</td>\n",
       "      <td>142.449997</td>\n",
       "      <td>142.449997</td>\n",
       "      <td>121434600</td>\n",
       "    </tr>\n",
       "    <tr>\n",
       "      <th>2021-07-20</th>\n",
       "      <td>143.460007</td>\n",
       "      <td>147.100006</td>\n",
       "      <td>142.960007</td>\n",
       "      <td>146.149994</td>\n",
       "      <td>146.149994</td>\n",
       "      <td>96238600</td>\n",
       "    </tr>\n",
       "  </tbody>\n",
       "</table>\n",
       "</div>"
      ],
      "text/plain": [
       "                  Open        High         Low       Close   Adj Close  \\\n",
       "Date                                                                     \n",
       "2021-07-14  148.100006  149.570007  147.679993  149.149994  149.149994   \n",
       "2021-07-15  149.240005  150.000000  147.089996  148.479996  148.479996   \n",
       "2021-07-16  148.460007  149.759995  145.880005  146.389999  146.389999   \n",
       "2021-07-19  143.750000  144.070007  141.669998  142.449997  142.449997   \n",
       "2021-07-20  143.460007  147.100006  142.960007  146.149994  146.149994   \n",
       "\n",
       "               Volume  \n",
       "Date                   \n",
       "2021-07-14  127050800  \n",
       "2021-07-15  106820300  \n",
       "2021-07-16   93100300  \n",
       "2021-07-19  121434600  \n",
       "2021-07-20   96238600  "
      ]
     },
     "execution_count": 2,
     "metadata": {},
     "output_type": "execute_result"
    }
   ],
   "source": [
    "symbol = 'AAPL'\n",
    "end = date.today()\n",
    "start = end.replace(year = 2020)\n",
    "\n",
    "\n",
    "# Read data \n",
    "df = yf.download(symbol,start,end)\n",
    "\n",
    "df.tail()"
   ]
  },
  {
   "cell_type": "code",
   "execution_count": 3,
   "metadata": {},
   "outputs": [
    {
     "data": {
      "text/html": [
       "<div>\n",
       "<style scoped>\n",
       "    .dataframe tbody tr th:only-of-type {\n",
       "        vertical-align: middle;\n",
       "    }\n",
       "\n",
       "    .dataframe tbody tr th {\n",
       "        vertical-align: top;\n",
       "    }\n",
       "\n",
       "    .dataframe thead th {\n",
       "        text-align: right;\n",
       "    }\n",
       "</style>\n",
       "<table border=\"1\" class=\"dataframe\">\n",
       "  <thead>\n",
       "    <tr style=\"text-align: right;\">\n",
       "      <th></th>\n",
       "      <th>Open</th>\n",
       "      <th>High</th>\n",
       "      <th>Low</th>\n",
       "      <th>Close</th>\n",
       "      <th>Adj Close</th>\n",
       "      <th>Volume</th>\n",
       "    </tr>\n",
       "    <tr>\n",
       "      <th>Date</th>\n",
       "      <th></th>\n",
       "      <th></th>\n",
       "      <th></th>\n",
       "      <th></th>\n",
       "      <th></th>\n",
       "      <th></th>\n",
       "    </tr>\n",
       "  </thead>\n",
       "  <tbody>\n",
       "    <tr>\n",
       "      <th>2020-07-20</th>\n",
       "      <td>96.417503</td>\n",
       "      <td>98.500000</td>\n",
       "      <td>96.062500</td>\n",
       "      <td>98.357498</td>\n",
       "      <td>97.699188</td>\n",
       "      <td>90318000</td>\n",
       "    </tr>\n",
       "    <tr>\n",
       "      <th>2020-07-21</th>\n",
       "      <td>99.172501</td>\n",
       "      <td>99.250000</td>\n",
       "      <td>96.742500</td>\n",
       "      <td>97.000000</td>\n",
       "      <td>96.350784</td>\n",
       "      <td>103433200</td>\n",
       "    </tr>\n",
       "    <tr>\n",
       "      <th>2020-07-22</th>\n",
       "      <td>96.692497</td>\n",
       "      <td>97.974998</td>\n",
       "      <td>96.602501</td>\n",
       "      <td>97.272499</td>\n",
       "      <td>96.621452</td>\n",
       "      <td>89001600</td>\n",
       "    </tr>\n",
       "    <tr>\n",
       "      <th>2020-07-23</th>\n",
       "      <td>96.997498</td>\n",
       "      <td>97.077499</td>\n",
       "      <td>92.010002</td>\n",
       "      <td>92.845001</td>\n",
       "      <td>92.223587</td>\n",
       "      <td>197004400</td>\n",
       "    </tr>\n",
       "    <tr>\n",
       "      <th>2020-07-24</th>\n",
       "      <td>90.987503</td>\n",
       "      <td>92.970001</td>\n",
       "      <td>89.144997</td>\n",
       "      <td>92.614998</td>\n",
       "      <td>91.995125</td>\n",
       "      <td>185438800</td>\n",
       "    </tr>\n",
       "  </tbody>\n",
       "</table>\n",
       "</div>"
      ],
      "text/plain": [
       "                 Open       High        Low      Close  Adj Close     Volume\n",
       "Date                                                                        \n",
       "2020-07-20  96.417503  98.500000  96.062500  98.357498  97.699188   90318000\n",
       "2020-07-21  99.172501  99.250000  96.742500  97.000000  96.350784  103433200\n",
       "2020-07-22  96.692497  97.974998  96.602501  97.272499  96.621452   89001600\n",
       "2020-07-23  96.997498  97.077499  92.010002  92.845001  92.223587  197004400\n",
       "2020-07-24  90.987503  92.970001  89.144997  92.614998  91.995125  185438800"
      ]
     },
     "execution_count": 3,
     "metadata": {},
     "output_type": "execute_result"
    }
   ],
   "source": [
    "df.head()"
   ]
  },
  {
   "cell_type": "code",
   "execution_count": 4,
   "metadata": {},
   "outputs": [],
   "source": [
    "symbol = 'AAPL'  #the ticker of the stock whose data is to be taken out\n",
    "dfo = yf.Ticker(symbol)"
   ]
  },
  {
   "cell_type": "code",
   "execution_count": 5,
   "metadata": {},
   "outputs": [
    {
     "data": {
      "text/plain": [
       "('2021-07-23',\n",
       " '2021-07-30',\n",
       " '2021-08-06',\n",
       " '2021-08-13',\n",
       " '2021-08-20',\n",
       " '2021-08-27',\n",
       " '2021-09-17',\n",
       " '2021-10-15',\n",
       " '2021-11-19',\n",
       " '2021-12-17',\n",
       " '2022-01-21',\n",
       " '2022-03-18',\n",
       " '2022-06-17',\n",
       " '2022-09-16',\n",
       " '2023-01-20',\n",
       " '2023-03-17',\n",
       " '2023-06-16',\n",
       " '2023-09-15')"
      ]
     },
     "execution_count": 5,
     "metadata": {},
     "output_type": "execute_result"
    }
   ],
   "source": [
    "dfo.options  #to get the date of different expiration time"
   ]
  },
  {
   "cell_type": "code",
   "execution_count": 6,
   "metadata": {},
   "outputs": [],
   "source": [
    "dfo_exp = dfo.option_chain(dfo.options[1])  #you can change index to try on different expiry dates"
   ]
  },
  {
   "cell_type": "code",
   "execution_count": 7,
   "metadata": {},
   "outputs": [
    {
     "data": {
      "text/html": [
       "<div>\n",
       "<style scoped>\n",
       "    .dataframe tbody tr th:only-of-type {\n",
       "        vertical-align: middle;\n",
       "    }\n",
       "\n",
       "    .dataframe tbody tr th {\n",
       "        vertical-align: top;\n",
       "    }\n",
       "\n",
       "    .dataframe thead th {\n",
       "        text-align: right;\n",
       "    }\n",
       "</style>\n",
       "<table border=\"1\" class=\"dataframe\">\n",
       "  <thead>\n",
       "    <tr style=\"text-align: right;\">\n",
       "      <th></th>\n",
       "      <th>contractSymbol</th>\n",
       "      <th>lastTradeDate</th>\n",
       "      <th>strike</th>\n",
       "      <th>lastPrice</th>\n",
       "      <th>bid</th>\n",
       "      <th>ask</th>\n",
       "      <th>change</th>\n",
       "      <th>percentChange</th>\n",
       "      <th>volume</th>\n",
       "      <th>openInterest</th>\n",
       "      <th>impliedVolatility</th>\n",
       "      <th>inTheMoney</th>\n",
       "      <th>contractSize</th>\n",
       "      <th>currency</th>\n",
       "    </tr>\n",
       "  </thead>\n",
       "  <tbody>\n",
       "    <tr>\n",
       "      <th>0</th>\n",
       "      <td>AAPL210730C00065000</td>\n",
       "      <td>2021-07-21 14:32:39</td>\n",
       "      <td>65.0</td>\n",
       "      <td>80.55</td>\n",
       "      <td>80.20</td>\n",
       "      <td>80.4</td>\n",
       "      <td>1.950005</td>\n",
       "      <td>2.480922</td>\n",
       "      <td>2</td>\n",
       "      <td>21</td>\n",
       "      <td>1.968750</td>\n",
       "      <td>True</td>\n",
       "      <td>REGULAR</td>\n",
       "      <td>USD</td>\n",
       "    </tr>\n",
       "    <tr>\n",
       "      <th>1</th>\n",
       "      <td>AAPL210730C00070000</td>\n",
       "      <td>2021-07-21 14:32:39</td>\n",
       "      <td>70.0</td>\n",
       "      <td>75.15</td>\n",
       "      <td>75.25</td>\n",
       "      <td>75.3</td>\n",
       "      <td>3.120003</td>\n",
       "      <td>4.331532</td>\n",
       "      <td>16</td>\n",
       "      <td>42</td>\n",
       "      <td>1.710939</td>\n",
       "      <td>True</td>\n",
       "      <td>REGULAR</td>\n",
       "      <td>USD</td>\n",
       "    </tr>\n",
       "    <tr>\n",
       "      <th>2</th>\n",
       "      <td>AAPL210730C00075000</td>\n",
       "      <td>2021-07-21 15:27:22</td>\n",
       "      <td>75.0</td>\n",
       "      <td>70.85</td>\n",
       "      <td>70.20</td>\n",
       "      <td>70.3</td>\n",
       "      <td>-3.550003</td>\n",
       "      <td>-4.771509</td>\n",
       "      <td>21</td>\n",
       "      <td>2</td>\n",
       "      <td>1.437503</td>\n",
       "      <td>True</td>\n",
       "      <td>REGULAR</td>\n",
       "      <td>USD</td>\n",
       "    </tr>\n",
       "    <tr>\n",
       "      <th>3</th>\n",
       "      <td>AAPL210730C00080000</td>\n",
       "      <td>2021-07-21 13:53:05</td>\n",
       "      <td>80.0</td>\n",
       "      <td>65.40</td>\n",
       "      <td>65.20</td>\n",
       "      <td>65.3</td>\n",
       "      <td>0.340004</td>\n",
       "      <td>0.522601</td>\n",
       "      <td>1</td>\n",
       "      <td>70</td>\n",
       "      <td>1.296879</td>\n",
       "      <td>True</td>\n",
       "      <td>REGULAR</td>\n",
       "      <td>USD</td>\n",
       "    </tr>\n",
       "    <tr>\n",
       "      <th>4</th>\n",
       "      <td>AAPL210730C00085000</td>\n",
       "      <td>2021-07-21 14:18:42</td>\n",
       "      <td>85.0</td>\n",
       "      <td>60.80</td>\n",
       "      <td>60.20</td>\n",
       "      <td>60.3</td>\n",
       "      <td>0.649998</td>\n",
       "      <td>1.080628</td>\n",
       "      <td>19</td>\n",
       "      <td>144</td>\n",
       "      <td>1.179692</td>\n",
       "      <td>True</td>\n",
       "      <td>REGULAR</td>\n",
       "      <td>USD</td>\n",
       "    </tr>\n",
       "  </tbody>\n",
       "</table>\n",
       "</div>"
      ],
      "text/plain": [
       "        contractSymbol       lastTradeDate  strike  lastPrice    bid   ask  \\\n",
       "0  AAPL210730C00065000 2021-07-21 14:32:39    65.0      80.55  80.20  80.4   \n",
       "1  AAPL210730C00070000 2021-07-21 14:32:39    70.0      75.15  75.25  75.3   \n",
       "2  AAPL210730C00075000 2021-07-21 15:27:22    75.0      70.85  70.20  70.3   \n",
       "3  AAPL210730C00080000 2021-07-21 13:53:05    80.0      65.40  65.20  65.3   \n",
       "4  AAPL210730C00085000 2021-07-21 14:18:42    85.0      60.80  60.20  60.3   \n",
       "\n",
       "     change  percentChange  volume  openInterest  impliedVolatility  \\\n",
       "0  1.950005       2.480922       2            21           1.968750   \n",
       "1  3.120003       4.331532      16            42           1.710939   \n",
       "2 -3.550003      -4.771509      21             2           1.437503   \n",
       "3  0.340004       0.522601       1            70           1.296879   \n",
       "4  0.649998       1.080628      19           144           1.179692   \n",
       "\n",
       "   inTheMoney contractSize currency  \n",
       "0        True      REGULAR      USD  \n",
       "1        True      REGULAR      USD  \n",
       "2        True      REGULAR      USD  \n",
       "3        True      REGULAR      USD  \n",
       "4        True      REGULAR      USD  "
      ]
     },
     "execution_count": 7,
     "metadata": {},
     "output_type": "execute_result"
    }
   ],
   "source": [
    "dfo_exp.calls.head()"
   ]
  },
  {
   "cell_type": "markdown",
   "metadata": {},
   "source": [
    "## Calculation of u and d"
   ]
  },
  {
   "cell_type": "markdown",
   "metadata": {},
   "source": [
    "u\n",
    " =size of the up move factor=\n",
    "$e^{σ\\sqrt{t}}$\n",
    ", and\n",
    "\n",
    "d\n",
    "=size of the down move factor=\n",
    "$e^{−σ\\sqrt{t}}$\n",
    "=\n",
    "$1/e^{σ\\sqrt{t}}$\n",
    "=\n",
    "1/\n",
    "u\n"
   ]
  },
  {
   "cell_type": "markdown",
   "metadata": {},
   "source": [
    "σ\n",
    "  is the annual volatility of the underlying asset’s returns and \n",
    "t\n",
    " is the length of the step in the binomial model."
   ]
  },
  {
   "cell_type": "markdown",
   "metadata": {},
   "source": [
    "To calculate annual volatility:-<br/>\n",
    "First calculate the daily returns of the asset<br/>\n",
    "Then calculate its standard deviation<br/>\n",
    "Then multiply it by sqrt(252) as in a year there are 252 trading days."
   ]
  },
  {
   "cell_type": "code",
   "execution_count": 8,
   "metadata": {},
   "outputs": [],
   "source": [
    "#Calculation of daily returns\n",
    "#Hint : You can use pct_change on daily closing which you can get from df\n",
    "ret = df['Close'].pct_change()[1:]"
   ]
  },
  {
   "cell_type": "code",
   "execution_count": 9,
   "metadata": {},
   "outputs": [
    {
     "data": {
      "text/plain": [
       "Date\n",
       "2020-07-21   -0.013802\n",
       "2020-07-22    0.002809\n",
       "2020-07-23   -0.045516\n",
       "2020-07-24   -0.002477\n",
       "2020-07-27    0.023700\n",
       "Name: Close, dtype: float64"
      ]
     },
     "execution_count": 9,
     "metadata": {},
     "output_type": "execute_result"
    }
   ],
   "source": [
    "#Remove nan if any\n",
    "ret.head()"
   ]
  },
  {
   "cell_type": "code",
   "execution_count": 10,
   "metadata": {},
   "outputs": [],
   "source": [
    "#Calculation of daily standard deviation\n",
    "daily_vol = ret.std()"
   ]
  },
  {
   "cell_type": "code",
   "execution_count": 11,
   "metadata": {},
   "outputs": [
    {
     "data": {
      "text/plain": [
       "0.021745354611274813"
      ]
     },
     "execution_count": 11,
     "metadata": {},
     "output_type": "execute_result"
    }
   ],
   "source": [
    "daily_vol   "
   ]
  },
  {
   "cell_type": "code",
   "execution_count": 12,
   "metadata": {},
   "outputs": [],
   "source": [
    "#Calculate annual volatility from daily volatility\n",
    "vol = daily_vol*252**0.5"
   ]
  },
  {
   "cell_type": "code",
   "execution_count": 13,
   "metadata": {},
   "outputs": [
    {
     "data": {
      "text/plain": [
       "0.3451968028340687"
      ]
     },
     "execution_count": 13,
     "metadata": {},
     "output_type": "execute_result"
    }
   ],
   "source": [
    "vol "
   ]
  },
  {
   "cell_type": "code",
   "execution_count": 14,
   "metadata": {},
   "outputs": [
    {
     "data": {
      "text/plain": [
       "'2021-07-30'"
      ]
     },
     "execution_count": 14,
     "metadata": {},
     "output_type": "execute_result"
    }
   ],
   "source": [
    "dfo.options[1]"
   ]
  },
  {
   "cell_type": "code",
   "execution_count": 15,
   "metadata": {},
   "outputs": [
    {
     "data": {
      "text/plain": [
       "datetime.date(2021, 7, 21)"
      ]
     },
     "execution_count": 15,
     "metadata": {},
     "output_type": "execute_result"
    }
   ],
   "source": [
    "date.today()"
   ]
  },
  {
   "cell_type": "code",
   "execution_count": 16,
   "metadata": {},
   "outputs": [],
   "source": [
    "N = 100\n",
    "T = 9.0/365      #Calculate the number of days left for expiry from your calculation in years\n",
    "t = T/N          "
   ]
  },
  {
   "cell_type": "code",
   "execution_count": 17,
   "metadata": {},
   "outputs": [
    {
     "data": {
      "text/plain": [
       "1.0054352455801612"
      ]
     },
     "execution_count": 17,
     "metadata": {},
     "output_type": "execute_result"
    }
   ],
   "source": [
    "u = np.exp(vol*np.sqrt(t))      #Calculate u from the above formula\n",
    "u"
   ]
  },
  {
   "cell_type": "code",
   "execution_count": 18,
   "metadata": {},
   "outputs": [
    {
     "data": {
      "text/plain": [
       "0.9945941366149096"
      ]
     },
     "execution_count": 18,
     "metadata": {},
     "output_type": "execute_result"
    }
   ],
   "source": [
    "d = 1/u   #Similarly calculate d\n",
    "d"
   ]
  },
  {
   "cell_type": "markdown",
   "metadata": {},
   "source": [
    "## Binomial Pricing model for call option"
   ]
  },
  {
   "cell_type": "markdown",
   "metadata": {},
   "source": [
    "Let S denote the price of the stock today, and let T denote the time until expiry of the option, in years. We'll divide this period into N equal time intervals, of length ΔT=T/N Assume that in each time period, the stock price changes by either multiplying by u, which we consider as an up movement, or by d, the down movement. We need to assume d<erΔT<u, where r is the risk-free interest rate, to avoid the possibility of arbitrage. If k time periods have passed, m is number if up movement : S(k,m)=S * u ** m * d ** (k-m)\n",
    "\n",
    "C(N,m)=max(S(N,m)−K,0)\n",
    "\n",
    "Once we know the value of the option at the end of the tree, we can work backward as before to figure out the value of the option at every node. Let C(k,m) denote the value of the option at the node that is k steps into the tree with m up movements in the stock price. The two following nodes in the tree are C(k+1,m+1) (if the price moves up) and C(k+1,m) (if the price moves down). If we let p denote the risk-neutral probability\n",
    "\n",
    "p = (e**(rΔT)−d)/(u−d)\n",
    "\n",
    "of a movement up, then the expected value of the option in the next step is\n",
    "pC(k+1,m+1)+(1−p)C(k+1,m)\n",
    "\n",
    "and so the value of the option at C(k,m) is the above expected value, discounted to today using the risk-free interest rate. That is\n",
    "\n",
    "C(k,m)=e−rΔT(pC(k+1,m+1)+(1−p)C(k+1,m))"
   ]
  },
  {
   "attachments": {
    "image.png": {
     "image/png": "[encoded data removed]"
    }
   },
   "cell_type": "markdown",
   "metadata": {},
   "source": [
    "![image.png](attachment:image.png)"
   ]
  },
  {
   "cell_type": "code",
   "execution_count": 19,
   "metadata": {},
   "outputs": [],
   "source": [
    "def first_binomial_call(S, K, T, r, u, d, N):\n",
    "    \"\"\"\n",
    "    Implementation of binomial pricing model\n",
    "    \n",
    "    Parameters\n",
    "    ----------\n",
    "    S : float\n",
    "        stock price\n",
    "        \n",
    "    K : float\n",
    "        strike price\n",
    "        \n",
    "    T : float\n",
    "        expiry time in years\n",
    "        \n",
    "    r : float\n",
    "        risk free rate which could be taken out of the yield of US treasury bonds\n",
    "        \n",
    "    u : float\n",
    "        size of upfactor move\n",
    "        \n",
    "    d : float\n",
    "        size of downfactor move\n",
    "        \n",
    "    N : int\n",
    "        number of steps in binomial model\n",
    "        \n",
    "    Returns\n",
    "    -------\n",
    "    C : dict\n",
    "        the binary pricing model in the form of dictionary\n",
    "    \"\"\"\n",
    "    \n",
    "    dt = T/N    #the time interval in years\n",
    "    p = (np.exp(r*dt) - d)/(u-d)    #risk neutral probability\n",
    "    C = {}\n",
    "    \n",
    "    #last column of the model (payoff of call)\n",
    "    for m in range(1, N+1):\n",
    "            C[(N, m)] = max(S*(u**m)*(d**(N-m)) - K, 0 )\n",
    "            \n",
    "    #moving backwards to calculate the call price\n",
    "    for k in range(N-1, 0, -1):\n",
    "        for m in range(1,k+1):\n",
    "            C[(k, m)] = (p*C[(k+1, m+1)] + (1-p)*C[(k+1), m])/np.exp(r*dt) \n",
    "    return C"
   ]
  },
  {
   "cell_type": "code",
   "execution_count": 20,
   "metadata": {},
   "outputs": [
    {
     "data": {
      "text/html": [
       "<div>\n",
       "<style scoped>\n",
       "    .dataframe tbody tr th:only-of-type {\n",
       "        vertical-align: middle;\n",
       "    }\n",
       "\n",
       "    .dataframe tbody tr th {\n",
       "        vertical-align: top;\n",
       "    }\n",
       "\n",
       "    .dataframe thead th {\n",
       "        text-align: right;\n",
       "    }\n",
       "</style>\n",
       "<table border=\"1\" class=\"dataframe\">\n",
       "  <thead>\n",
       "    <tr style=\"text-align: right;\">\n",
       "      <th></th>\n",
       "      <th>th_call</th>\n",
       "    </tr>\n",
       "  </thead>\n",
       "  <tbody>\n",
       "    <tr>\n",
       "      <th>65.0</th>\n",
       "      <td>81.944359</td>\n",
       "    </tr>\n",
       "    <tr>\n",
       "      <th>70.0</th>\n",
       "      <td>76.944359</td>\n",
       "    </tr>\n",
       "    <tr>\n",
       "      <th>75.0</th>\n",
       "      <td>71.944360</td>\n",
       "    </tr>\n",
       "    <tr>\n",
       "      <th>80.0</th>\n",
       "      <td>66.944360</td>\n",
       "    </tr>\n",
       "    <tr>\n",
       "      <th>85.0</th>\n",
       "      <td>61.944360</td>\n",
       "    </tr>\n",
       "  </tbody>\n",
       "</table>\n",
       "</div>"
      ],
      "text/plain": [
       "        th_call\n",
       "65.0  81.944359\n",
       "70.0  76.944359\n",
       "75.0  71.944360\n",
       "80.0  66.944360\n",
       "85.0  61.944360"
      ]
     },
     "execution_count": 20,
     "metadata": {},
     "output_type": "execute_result"
    }
   ],
   "source": [
    "#r is the risk free rate taken from the 10 years us treasury bond\n",
    "call = {}\n",
    "for K in dfo_exp.calls['strike']:\n",
    "    call_price = first_binomial_call(S = df['Close'][len(df)-1], K = K, T = T, r=0.01*t, u = u, d =d, N=N)[(1, 1)]\n",
    "  # print(call_price)\n",
    "    call[K] = call_price\n",
    "th_call = pd.DataFrame.from_dict(call, orient='index')\n",
    "th_call.rename(columns = {0:\"th_call\"}, inplace = True)\n",
    "th_call.head()"
   ]
  },
  {
   "cell_type": "code",
   "execution_count": 21,
   "metadata": {},
   "outputs": [
    {
     "data": {
      "text/html": [
       "<div>\n",
       "<style scoped>\n",
       "    .dataframe tbody tr th:only-of-type {\n",
       "        vertical-align: middle;\n",
       "    }\n",
       "\n",
       "    .dataframe tbody tr th {\n",
       "        vertical-align: top;\n",
       "    }\n",
       "\n",
       "    .dataframe thead th {\n",
       "        text-align: right;\n",
       "    }\n",
       "</style>\n",
       "<table border=\"1\" class=\"dataframe\">\n",
       "  <thead>\n",
       "    <tr style=\"text-align: right;\">\n",
       "      <th></th>\n",
       "      <th>ac_call</th>\n",
       "    </tr>\n",
       "    <tr>\n",
       "      <th>strike</th>\n",
       "      <th></th>\n",
       "    </tr>\n",
       "  </thead>\n",
       "  <tbody>\n",
       "    <tr>\n",
       "      <th>65.0</th>\n",
       "      <td>80.55</td>\n",
       "    </tr>\n",
       "    <tr>\n",
       "      <th>70.0</th>\n",
       "      <td>75.15</td>\n",
       "    </tr>\n",
       "    <tr>\n",
       "      <th>75.0</th>\n",
       "      <td>70.85</td>\n",
       "    </tr>\n",
       "    <tr>\n",
       "      <th>80.0</th>\n",
       "      <td>65.40</td>\n",
       "    </tr>\n",
       "    <tr>\n",
       "      <th>85.0</th>\n",
       "      <td>60.80</td>\n",
       "    </tr>\n",
       "  </tbody>\n",
       "</table>\n",
       "</div>"
      ],
      "text/plain": [
       "        ac_call\n",
       "strike         \n",
       "65.0      80.55\n",
       "70.0      75.15\n",
       "75.0      70.85\n",
       "80.0      65.40\n",
       "85.0      60.80"
      ]
     },
     "execution_count": 21,
     "metadata": {},
     "output_type": "execute_result"
    }
   ],
   "source": [
    "ac_call = dfo_exp.calls.loc[:, ['strike', 'lastPrice']]\n",
    "ac_call.set_index('strike', inplace = True)\n",
    "ac_call.rename(columns = {\"lastPrice\":\"ac_call\"}, inplace=True)\n",
    "ac_call.head()"
   ]
  },
  {
   "cell_type": "code",
   "execution_count": 22,
   "metadata": {},
   "outputs": [
    {
     "data": {
      "text/html": [
       "<div>\n",
       "<style scoped>\n",
       "    .dataframe tbody tr th:only-of-type {\n",
       "        vertical-align: middle;\n",
       "    }\n",
       "\n",
       "    .dataframe tbody tr th {\n",
       "        vertical-align: top;\n",
       "    }\n",
       "\n",
       "    .dataframe thead th {\n",
       "        text-align: right;\n",
       "    }\n",
       "</style>\n",
       "<table border=\"1\" class=\"dataframe\">\n",
       "  <thead>\n",
       "    <tr style=\"text-align: right;\">\n",
       "      <th></th>\n",
       "      <th>th_call</th>\n",
       "      <th>ac_call</th>\n",
       "    </tr>\n",
       "  </thead>\n",
       "  <tbody>\n",
       "    <tr>\n",
       "      <th>65.0</th>\n",
       "      <td>81.944359</td>\n",
       "      <td>80.55</td>\n",
       "    </tr>\n",
       "    <tr>\n",
       "      <th>70.0</th>\n",
       "      <td>76.944359</td>\n",
       "      <td>75.15</td>\n",
       "    </tr>\n",
       "    <tr>\n",
       "      <th>75.0</th>\n",
       "      <td>71.944360</td>\n",
       "      <td>70.85</td>\n",
       "    </tr>\n",
       "    <tr>\n",
       "      <th>80.0</th>\n",
       "      <td>66.944360</td>\n",
       "      <td>65.40</td>\n",
       "    </tr>\n",
       "    <tr>\n",
       "      <th>85.0</th>\n",
       "      <td>61.944360</td>\n",
       "      <td>60.80</td>\n",
       "    </tr>\n",
       "    <tr>\n",
       "      <th>90.0</th>\n",
       "      <td>56.944360</td>\n",
       "      <td>52.90</td>\n",
       "    </tr>\n",
       "    <tr>\n",
       "      <th>95.0</th>\n",
       "      <td>51.944361</td>\n",
       "      <td>48.53</td>\n",
       "    </tr>\n",
       "    <tr>\n",
       "      <th>100.0</th>\n",
       "      <td>46.944361</td>\n",
       "      <td>45.32</td>\n",
       "    </tr>\n",
       "    <tr>\n",
       "      <th>105.0</th>\n",
       "      <td>41.944361</td>\n",
       "      <td>40.35</td>\n",
       "    </tr>\n",
       "    <tr>\n",
       "      <th>110.0</th>\n",
       "      <td>36.944362</td>\n",
       "      <td>35.32</td>\n",
       "    </tr>\n",
       "  </tbody>\n",
       "</table>\n",
       "</div>"
      ],
      "text/plain": [
       "         th_call  ac_call\n",
       "65.0   81.944359    80.55\n",
       "70.0   76.944359    75.15\n",
       "75.0   71.944360    70.85\n",
       "80.0   66.944360    65.40\n",
       "85.0   61.944360    60.80\n",
       "90.0   56.944360    52.90\n",
       "95.0   51.944361    48.53\n",
       "100.0  46.944361    45.32\n",
       "105.0  41.944361    40.35\n",
       "110.0  36.944362    35.32"
      ]
     },
     "execution_count": 22,
     "metadata": {},
     "output_type": "execute_result"
    }
   ],
   "source": [
    "call = th_call\n",
    "call[\"ac_call\"] = ac_call\n",
    "call.head(10)"
   ]
  },
  {
   "cell_type": "code",
   "execution_count": 23,
   "metadata": {},
   "outputs": [
    {
     "data": {
      "text/plain": [
       "<matplotlib.axes._subplots.AxesSubplot at 0x141ff7dacf8>"
      ]
     },
     "execution_count": 23,
     "metadata": {},
     "output_type": "execute_result"
    },
    {
     "data": {
      "image/png": "[encoded data removed]",
      "text/plain": [
       "<Figure size 432x288 with 1 Axes>"
      ]
     },
     "metadata": {
      "needs_background": "light"
     },
     "output_type": "display_data"
    }
   ],
   "source": [
    "call.plot()"
   ]
  }
 ],
 "metadata": {
  "kernelspec": {
   "display_name": "Python 3",
   "language": "python",
   "name": "python3"
  },
  "language_info": {
   "codemirror_mode": {
    "name": "ipython",
    "version": 3
   },
   "file_extension": ".py",
   "mimetype": "text/x-python",
   "name": "python",
   "nbconvert_exporter": "python",
   "pygments_lexer": "ipython3",
   "version": "3.7.3"
  }
 },
 "nbformat": 4,
 "nbformat_minor": 2
}
