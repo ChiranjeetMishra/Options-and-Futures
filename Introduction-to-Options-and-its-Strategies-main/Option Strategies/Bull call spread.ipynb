{
 "cells": [
  {
   "cell_type": "markdown",
   "metadata": {},
   "source": [
    "# Bull Call Spread on Bank Nifty Data"
   ]
  },
  {
   "cell_type": "markdown",
   "metadata": {},
   "source": [
    "https://zerodha.com/varsity/chapter/bull-call-spread/"
   ]
  },
  {
   "cell_type": "markdown",
   "metadata": {},
   "source": [
    "The code for bull call spread on bank nifty data for 1 month managing the delta of 0.8 <br/>\n",
    "Also rather than buying at the money call option, we have bought bank nifty futures at the start of the month and we will hedge it by selling OTM call option."
   ]
  },
  {
   "cell_type": "markdown",
   "metadata": {},
   "source": [
    "## Importing important libraries"
   ]
  },
  {
   "cell_type": "code",
   "execution_count": 1,
   "metadata": {},
   "outputs": [],
   "source": [
    "#pip install py_vollib"
   ]
  },
  {
   "cell_type": "code",
   "execution_count": 2,
   "metadata": {},
   "outputs": [],
   "source": [
    "import pandas as pd\n",
    "import matplotlib.pyplot as plt\n",
    "import numpy as np\n",
    "\n",
    "from datetime import datetime\n",
    "\n",
    "import warnings\n",
    "warnings.filterwarnings(\"ignore\")\n",
    "\n",
    "# to fetch data \n",
    "import yfinance as yf\n",
    "\n",
    "import scipy.stats as ss\n",
    "\n",
    "import py_vollib.black_scholes.greeks.analytical as derivatives\n",
    "\n",
    "import math"
   ]
  },
  {
   "cell_type": "markdown",
   "metadata": {},
   "source": [
    "## Importing data"
   ]
  },
  {
   "cell_type": "code",
   "execution_count": 3,
   "metadata": {},
   "outputs": [
    {
     "data": {
      "text/html": [
       "<div>\n",
       "<style scoped>\n",
       "    .dataframe tbody tr th:only-of-type {\n",
       "        vertical-align: middle;\n",
       "    }\n",
       "\n",
       "    .dataframe tbody tr th {\n",
       "        vertical-align: top;\n",
       "    }\n",
       "\n",
       "    .dataframe thead th {\n",
       "        text-align: right;\n",
       "    }\n",
       "</style>\n",
       "<table border=\"1\" class=\"dataframe\">\n",
       "  <thead>\n",
       "    <tr style=\"text-align: right;\">\n",
       "      <th></th>\n",
       "      <th>Symbol</th>\n",
       "      <th>Date</th>\n",
       "      <th>Expiry</th>\n",
       "      <th>Open</th>\n",
       "      <th>High</th>\n",
       "      <th>Low</th>\n",
       "      <th>Close</th>\n",
       "      <th>LTP</th>\n",
       "      <th>Settle Price</th>\n",
       "      <th>No. of contracts</th>\n",
       "      <th>Turnover in Lacs</th>\n",
       "      <th>Open Int</th>\n",
       "      <th>Change in OI</th>\n",
       "      <th>Underlying Value</th>\n",
       "    </tr>\n",
       "  </thead>\n",
       "  <tbody>\n",
       "    <tr>\n",
       "      <th>0</th>\n",
       "      <td>BANKNIFTY</td>\n",
       "      <td>28-May-2021</td>\n",
       "      <td>24-Jun-2021</td>\n",
       "      <td>35499.00</td>\n",
       "      <td>35670.00</td>\n",
       "      <td>35150.00</td>\n",
       "      <td>35321.80</td>\n",
       "      <td>35394.05</td>\n",
       "      <td>35321.80</td>\n",
       "      <td>151658</td>\n",
       "      <td>1340811.02</td>\n",
       "      <td>1745000</td>\n",
       "      <td>27775</td>\n",
       "      <td>35141.45</td>\n",
       "    </tr>\n",
       "    <tr>\n",
       "      <th>1</th>\n",
       "      <td>BANKNIFTY</td>\n",
       "      <td>31-May-2021</td>\n",
       "      <td>24-Jun-2021</td>\n",
       "      <td>35280.00</td>\n",
       "      <td>35650.00</td>\n",
       "      <td>35063.15</td>\n",
       "      <td>35602.90</td>\n",
       "      <td>35578.25</td>\n",
       "      <td>35602.90</td>\n",
       "      <td>141916</td>\n",
       "      <td>1257088.18</td>\n",
       "      <td>1723450</td>\n",
       "      <td>-21550</td>\n",
       "      <td>-</td>\n",
       "    </tr>\n",
       "    <tr>\n",
       "      <th>2</th>\n",
       "      <td>BANKNIFTY</td>\n",
       "      <td>01-Jun-2021</td>\n",
       "      <td>24-Jun-2021</td>\n",
       "      <td>35677.95</td>\n",
       "      <td>35797.45</td>\n",
       "      <td>35313.95</td>\n",
       "      <td>35454.10</td>\n",
       "      <td>35470.00</td>\n",
       "      <td>35454.10</td>\n",
       "      <td>145631</td>\n",
       "      <td>1292727.92</td>\n",
       "      <td>1731125</td>\n",
       "      <td>7675</td>\n",
       "      <td>-</td>\n",
       "    </tr>\n",
       "    <tr>\n",
       "      <th>3</th>\n",
       "      <td>BANKNIFTY</td>\n",
       "      <td>02-Jun-2021</td>\n",
       "      <td>24-Jun-2021</td>\n",
       "      <td>35380.00</td>\n",
       "      <td>35560.00</td>\n",
       "      <td>35180.00</td>\n",
       "      <td>35524.25</td>\n",
       "      <td>35540.00</td>\n",
       "      <td>35524.25</td>\n",
       "      <td>113559</td>\n",
       "      <td>1003669.30</td>\n",
       "      <td>1700025</td>\n",
       "      <td>-31100</td>\n",
       "      <td>-</td>\n",
       "    </tr>\n",
       "    <tr>\n",
       "      <th>4</th>\n",
       "      <td>BANKNIFTY</td>\n",
       "      <td>03-Jun-2021</td>\n",
       "      <td>24-Jun-2021</td>\n",
       "      <td>35662.20</td>\n",
       "      <td>35890.00</td>\n",
       "      <td>35553.00</td>\n",
       "      <td>35781.95</td>\n",
       "      <td>35775.00</td>\n",
       "      <td>35781.95</td>\n",
       "      <td>121729</td>\n",
       "      <td>1086929.72</td>\n",
       "      <td>1690250</td>\n",
       "      <td>-9775</td>\n",
       "      <td>-</td>\n",
       "    </tr>\n",
       "  </tbody>\n",
       "</table>\n",
       "</div>"
      ],
      "text/plain": [
       "      Symbol         Date       Expiry      Open      High       Low  \\\n",
       "0  BANKNIFTY  28-May-2021  24-Jun-2021  35499.00  35670.00  35150.00   \n",
       "1  BANKNIFTY  31-May-2021  24-Jun-2021  35280.00  35650.00  35063.15   \n",
       "2  BANKNIFTY  01-Jun-2021  24-Jun-2021  35677.95  35797.45  35313.95   \n",
       "3  BANKNIFTY  02-Jun-2021  24-Jun-2021  35380.00  35560.00  35180.00   \n",
       "4  BANKNIFTY  03-Jun-2021  24-Jun-2021  35662.20  35890.00  35553.00   \n",
       "\n",
       "      Close       LTP  Settle Price  No. of contracts  Turnover in Lacs  \\\n",
       "0  35321.80  35394.05      35321.80            151658        1340811.02   \n",
       "1  35602.90  35578.25      35602.90            141916        1257088.18   \n",
       "2  35454.10  35470.00      35454.10            145631        1292727.92   \n",
       "3  35524.25  35540.00      35524.25            113559        1003669.30   \n",
       "4  35781.95  35775.00      35781.95            121729        1086929.72   \n",
       "\n",
       "   Open Int  Change in OI Underlying Value   \n",
       "0   1745000         27775          35141.45  \n",
       "1   1723450        -21550                 -  \n",
       "2   1731125          7675                 -  \n",
       "3   1700025        -31100                 -  \n",
       "4   1690250         -9775                 -  "
      ]
     },
     "execution_count": 3,
     "metadata": {},
     "output_type": "execute_result"
    }
   ],
   "source": [
    "df_fut = pd.read_csv('D:\\chrome\\FUTIDX_BANKNIFTY_28-May-2021_TO_24-Jun-2021.csv')  #Fill in with the address of where you downloaded the file. You can check in properties of the file\n",
    "df_fut.head()"
   ]
  },
  {
   "cell_type": "code",
   "execution_count": 4,
   "metadata": {},
   "outputs": [
    {
     "data": {
      "text/html": [
       "<div>\n",
       "<style scoped>\n",
       "    .dataframe tbody tr th:only-of-type {\n",
       "        vertical-align: middle;\n",
       "    }\n",
       "\n",
       "    .dataframe tbody tr th {\n",
       "        vertical-align: top;\n",
       "    }\n",
       "\n",
       "    .dataframe thead th {\n",
       "        text-align: right;\n",
       "    }\n",
       "</style>\n",
       "<table border=\"1\" class=\"dataframe\">\n",
       "  <thead>\n",
       "    <tr style=\"text-align: right;\">\n",
       "      <th></th>\n",
       "      <th>Symbol</th>\n",
       "      <th>Date</th>\n",
       "      <th>Expiry</th>\n",
       "      <th>Option Type</th>\n",
       "      <th>Strike Price</th>\n",
       "      <th>Open</th>\n",
       "      <th>High</th>\n",
       "      <th>Low</th>\n",
       "      <th>Close</th>\n",
       "      <th>LTP</th>\n",
       "      <th>Settle Price</th>\n",
       "      <th>No. of contracts</th>\n",
       "      <th>Turnover in Lacs</th>\n",
       "      <th>Premium Turnover in Lacs</th>\n",
       "      <th>Open Int</th>\n",
       "      <th>Change in OI</th>\n",
       "      <th>Underlying Value</th>\n",
       "    </tr>\n",
       "  </thead>\n",
       "  <tbody>\n",
       "    <tr>\n",
       "      <th>0</th>\n",
       "      <td>BANKNIFTY</td>\n",
       "      <td>28-May-2021</td>\n",
       "      <td>24-Jun-2021</td>\n",
       "      <td>CE</td>\n",
       "      <td>36000</td>\n",
       "      <td>849.95</td>\n",
       "      <td>924.50</td>\n",
       "      <td>665.60</td>\n",
       "      <td>730.80</td>\n",
       "      <td>743.30</td>\n",
       "      <td>730.80</td>\n",
       "      <td>26704</td>\n",
       "      <td>245464.26</td>\n",
       "      <td>5128.26</td>\n",
       "      <td>320700</td>\n",
       "      <td>116225</td>\n",
       "      <td>35141.45</td>\n",
       "    </tr>\n",
       "    <tr>\n",
       "      <th>1</th>\n",
       "      <td>BANKNIFTY</td>\n",
       "      <td>31-May-2021</td>\n",
       "      <td>24-Jun-2021</td>\n",
       "      <td>CE</td>\n",
       "      <td>36000</td>\n",
       "      <td>693.90</td>\n",
       "      <td>790.00</td>\n",
       "      <td>598.10</td>\n",
       "      <td>772.95</td>\n",
       "      <td>752.05</td>\n",
       "      <td>772.95</td>\n",
       "      <td>19525</td>\n",
       "      <td>179242.57</td>\n",
       "      <td>3517.57</td>\n",
       "      <td>331150</td>\n",
       "      <td>10450</td>\n",
       "      <td>-</td>\n",
       "    </tr>\n",
       "    <tr>\n",
       "      <th>2</th>\n",
       "      <td>BANKNIFTY</td>\n",
       "      <td>01-Jun-2021</td>\n",
       "      <td>24-Jun-2021</td>\n",
       "      <td>CE</td>\n",
       "      <td>36000</td>\n",
       "      <td>782.00</td>\n",
       "      <td>832.00</td>\n",
       "      <td>633.35</td>\n",
       "      <td>660.65</td>\n",
       "      <td>661.00</td>\n",
       "      <td>660.65</td>\n",
       "      <td>31536</td>\n",
       "      <td>289503.11</td>\n",
       "      <td>5679.11</td>\n",
       "      <td>313700</td>\n",
       "      <td>-17450</td>\n",
       "      <td>-</td>\n",
       "    </tr>\n",
       "    <tr>\n",
       "      <th>3</th>\n",
       "      <td>BANKNIFTY</td>\n",
       "      <td>02-Jun-2021</td>\n",
       "      <td>24-Jun-2021</td>\n",
       "      <td>CE</td>\n",
       "      <td>36000</td>\n",
       "      <td>575.50</td>\n",
       "      <td>625.95</td>\n",
       "      <td>533.85</td>\n",
       "      <td>612.70</td>\n",
       "      <td>606.85</td>\n",
       "      <td>612.70</td>\n",
       "      <td>19060</td>\n",
       "      <td>174293.32</td>\n",
       "      <td>2753.32</td>\n",
       "      <td>324475</td>\n",
       "      <td>10775</td>\n",
       "      <td>-</td>\n",
       "    </tr>\n",
       "    <tr>\n",
       "      <th>4</th>\n",
       "      <td>BANKNIFTY</td>\n",
       "      <td>03-Jun-2021</td>\n",
       "      <td>24-Jun-2021</td>\n",
       "      <td>CE</td>\n",
       "      <td>36000</td>\n",
       "      <td>659.05</td>\n",
       "      <td>753.90</td>\n",
       "      <td>596.50</td>\n",
       "      <td>698.40</td>\n",
       "      <td>696.00</td>\n",
       "      <td>698.40</td>\n",
       "      <td>24549</td>\n",
       "      <td>225062.12</td>\n",
       "      <td>4121.12</td>\n",
       "      <td>328425</td>\n",
       "      <td>3950</td>\n",
       "      <td>-</td>\n",
       "    </tr>\n",
       "  </tbody>\n",
       "</table>\n",
       "</div>"
      ],
      "text/plain": [
       "      Symbol         Date       Expiry Option Type  Strike Price    Open  \\\n",
       "0  BANKNIFTY  28-May-2021  24-Jun-2021          CE         36000  849.95   \n",
       "1  BANKNIFTY  31-May-2021  24-Jun-2021          CE         36000  693.90   \n",
       "2  BANKNIFTY  01-Jun-2021  24-Jun-2021          CE         36000  782.00   \n",
       "3  BANKNIFTY  02-Jun-2021  24-Jun-2021          CE         36000  575.50   \n",
       "4  BANKNIFTY  03-Jun-2021  24-Jun-2021          CE         36000  659.05   \n",
       "\n",
       "     High     Low   Close     LTP  Settle Price  No. of contracts  \\\n",
       "0  924.50  665.60  730.80  743.30        730.80             26704   \n",
       "1  790.00  598.10  772.95  752.05        772.95             19525   \n",
       "2  832.00  633.35  660.65  661.00        660.65             31536   \n",
       "3  625.95  533.85  612.70  606.85        612.70             19060   \n",
       "4  753.90  596.50  698.40  696.00        698.40             24549   \n",
       "\n",
       "   Turnover in Lacs  Premium Turnover in Lacs  Open Int  Change in OI  \\\n",
       "0         245464.26                   5128.26    320700        116225   \n",
       "1         179242.57                   3517.57    331150         10450   \n",
       "2         289503.11                   5679.11    313700        -17450   \n",
       "3         174293.32                   2753.32    324475         10775   \n",
       "4         225062.12                   4121.12    328425          3950   \n",
       "\n",
       "  Underlying Value  \n",
       "0         35141.45  \n",
       "1                -  \n",
       "2                -  \n",
       "3                -  \n",
       "4                -  "
      ]
     },
     "execution_count": 4,
     "metadata": {},
     "output_type": "execute_result"
    }
   ],
   "source": [
    "df_call_36000 = pd.read_csv('D:\\chrome\\OPTIDX_BANKNIFTY_CE_28-May-2021_TO_24-Jun-2021.csv')\n",
    "df_call_36000.head()"
   ]
  },
  {
   "cell_type": "code",
   "execution_count": 5,
   "metadata": {},
   "outputs": [
    {
     "name": "stdout",
     "output_type": "stream",
     "text": [
      "[*********************100%***********************]  1 of 1 completed\n"
     ]
    },
    {
     "data": {
      "text/html": [
       "<div>\n",
       "<style scoped>\n",
       "    .dataframe tbody tr th:only-of-type {\n",
       "        vertical-align: middle;\n",
       "    }\n",
       "\n",
       "    .dataframe tbody tr th {\n",
       "        vertical-align: top;\n",
       "    }\n",
       "\n",
       "    .dataframe thead th {\n",
       "        text-align: right;\n",
       "    }\n",
       "</style>\n",
       "<table border=\"1\" class=\"dataframe\">\n",
       "  <thead>\n",
       "    <tr style=\"text-align: right;\">\n",
       "      <th></th>\n",
       "      <th>Open</th>\n",
       "      <th>High</th>\n",
       "      <th>Low</th>\n",
       "      <th>Close</th>\n",
       "      <th>Adj Close</th>\n",
       "      <th>Volume</th>\n",
       "    </tr>\n",
       "    <tr>\n",
       "      <th>Date</th>\n",
       "      <th></th>\n",
       "      <th></th>\n",
       "      <th></th>\n",
       "      <th></th>\n",
       "      <th></th>\n",
       "      <th></th>\n",
       "    </tr>\n",
       "  </thead>\n",
       "  <tbody>\n",
       "    <tr>\n",
       "      <th>2021-05-28</th>\n",
       "      <td>35345.648438</td>\n",
       "      <td>35436.648438</td>\n",
       "      <td>34977.199219</td>\n",
       "      <td>35141.449219</td>\n",
       "      <td>35141.449219</td>\n",
       "      <td>0</td>\n",
       "    </tr>\n",
       "    <tr>\n",
       "      <th>2021-05-31</th>\n",
       "      <td>35097.449219</td>\n",
       "      <td>35584.300781</td>\n",
       "      <td>34930.101562</td>\n",
       "      <td>35526.648438</td>\n",
       "      <td>35526.648438</td>\n",
       "      <td>0</td>\n",
       "    </tr>\n",
       "    <tr>\n",
       "      <th>2021-06-01</th>\n",
       "      <td>35639.750000</td>\n",
       "      <td>35713.898438</td>\n",
       "      <td>35241.199219</td>\n",
       "      <td>35337.199219</td>\n",
       "      <td>35337.199219</td>\n",
       "      <td>0</td>\n",
       "    </tr>\n",
       "    <tr>\n",
       "      <th>2021-06-02</th>\n",
       "      <td>35271.601562</td>\n",
       "      <td>35415.851562</td>\n",
       "      <td>35070.300781</td>\n",
       "      <td>35373.750000</td>\n",
       "      <td>35373.750000</td>\n",
       "      <td>0</td>\n",
       "    </tr>\n",
       "    <tr>\n",
       "      <th>2021-06-03</th>\n",
       "      <td>35536.449219</td>\n",
       "      <td>35723.699219</td>\n",
       "      <td>35413.000000</td>\n",
       "      <td>35649.000000</td>\n",
       "      <td>35649.000000</td>\n",
       "      <td>0</td>\n",
       "    </tr>\n",
       "  </tbody>\n",
       "</table>\n",
       "</div>"
      ],
      "text/plain": [
       "                    Open          High           Low         Close  \\\n",
       "Date                                                                 \n",
       "2021-05-28  35345.648438  35436.648438  34977.199219  35141.449219   \n",
       "2021-05-31  35097.449219  35584.300781  34930.101562  35526.648438   \n",
       "2021-06-01  35639.750000  35713.898438  35241.199219  35337.199219   \n",
       "2021-06-02  35271.601562  35415.851562  35070.300781  35373.750000   \n",
       "2021-06-03  35536.449219  35723.699219  35413.000000  35649.000000   \n",
       "\n",
       "               Adj Close  Volume  \n",
       "Date                              \n",
       "2021-05-28  35141.449219       0  \n",
       "2021-05-31  35526.648438       0  \n",
       "2021-06-01  35337.199219       0  \n",
       "2021-06-02  35373.750000       0  \n",
       "2021-06-03  35649.000000       0  "
      ]
     },
     "execution_count": 5,
     "metadata": {},
     "output_type": "execute_result"
    }
   ],
   "source": [
    "symbol = '^NSEBANK'\n",
    "end = '2021-06-25'\n",
    "start = '2021-05-28'\n",
    "\n",
    "\n",
    "# Read data \n",
    "df = yf.download(symbol,start,end)\n",
    "\n",
    "df.head()"
   ]
  },
  {
   "cell_type": "markdown",
   "metadata": {},
   "source": [
    "### Calculation of annual volatility and time remainig for expiry used in calculation of delta"
   ]
  },
  {
   "cell_type": "code",
   "execution_count": 6,
   "metadata": {},
   "outputs": [
    {
     "name": "stdout",
     "output_type": "stream",
     "text": [
      "[*********************100%***********************]  1 of 1 completed\n"
     ]
    },
    {
     "data": {
      "text/html": [
       "<div>\n",
       "<style scoped>\n",
       "    .dataframe tbody tr th:only-of-type {\n",
       "        vertical-align: middle;\n",
       "    }\n",
       "\n",
       "    .dataframe tbody tr th {\n",
       "        vertical-align: top;\n",
       "    }\n",
       "\n",
       "    .dataframe thead th {\n",
       "        text-align: right;\n",
       "    }\n",
       "</style>\n",
       "<table border=\"1\" class=\"dataframe\">\n",
       "  <thead>\n",
       "    <tr style=\"text-align: right;\">\n",
       "      <th></th>\n",
       "      <th>Open</th>\n",
       "      <th>High</th>\n",
       "      <th>Low</th>\n",
       "      <th>Close</th>\n",
       "      <th>Adj Close</th>\n",
       "      <th>Volume</th>\n",
       "    </tr>\n",
       "    <tr>\n",
       "      <th>Date</th>\n",
       "      <th></th>\n",
       "      <th></th>\n",
       "      <th></th>\n",
       "      <th></th>\n",
       "      <th></th>\n",
       "      <th></th>\n",
       "    </tr>\n",
       "  </thead>\n",
       "  <tbody>\n",
       "    <tr>\n",
       "      <th>2021-05-21</th>\n",
       "      <td>33559.800781</td>\n",
       "      <td>34694.449219</td>\n",
       "      <td>33559.750000</td>\n",
       "      <td>34606.898438</td>\n",
       "      <td>34606.898438</td>\n",
       "      <td>0</td>\n",
       "    </tr>\n",
       "    <tr>\n",
       "      <th>2021-05-24</th>\n",
       "      <td>34869.300781</td>\n",
       "      <td>35216.101562</td>\n",
       "      <td>34528.300781</td>\n",
       "      <td>34943.601562</td>\n",
       "      <td>34943.601562</td>\n",
       "      <td>0</td>\n",
       "    </tr>\n",
       "    <tr>\n",
       "      <th>2021-05-25</th>\n",
       "      <td>35095.000000</td>\n",
       "      <td>35125.851562</td>\n",
       "      <td>34410.398438</td>\n",
       "      <td>34662.000000</td>\n",
       "      <td>34662.000000</td>\n",
       "      <td>0</td>\n",
       "    </tr>\n",
       "    <tr>\n",
       "      <th>2021-05-26</th>\n",
       "      <td>34757.148438</td>\n",
       "      <td>34897.949219</td>\n",
       "      <td>34462.500000</td>\n",
       "      <td>34684.199219</td>\n",
       "      <td>34684.199219</td>\n",
       "      <td>0</td>\n",
       "    </tr>\n",
       "    <tr>\n",
       "      <th>2021-05-27</th>\n",
       "      <td>34664.199219</td>\n",
       "      <td>35220.800781</td>\n",
       "      <td>34529.699219</td>\n",
       "      <td>35095.050781</td>\n",
       "      <td>35095.050781</td>\n",
       "      <td>0</td>\n",
       "    </tr>\n",
       "  </tbody>\n",
       "</table>\n",
       "</div>"
      ],
      "text/plain": [
       "                    Open          High           Low         Close  \\\n",
       "Date                                                                 \n",
       "2021-05-21  33559.800781  34694.449219  33559.750000  34606.898438   \n",
       "2021-05-24  34869.300781  35216.101562  34528.300781  34943.601562   \n",
       "2021-05-25  35095.000000  35125.851562  34410.398438  34662.000000   \n",
       "2021-05-26  34757.148438  34897.949219  34462.500000  34684.199219   \n",
       "2021-05-27  34664.199219  35220.800781  34529.699219  35095.050781   \n",
       "\n",
       "               Adj Close  Volume  \n",
       "Date                              \n",
       "2021-05-21  34606.898438       0  \n",
       "2021-05-24  34943.601562       0  \n",
       "2021-05-25  34662.000000       0  \n",
       "2021-05-26  34684.199219       0  \n",
       "2021-05-27  35095.050781       0  "
      ]
     },
     "execution_count": 6,
     "metadata": {},
     "output_type": "execute_result"
    }
   ],
   "source": [
    "symbol = '^NSEBANK'\n",
    "end = '2021-05-28'\n",
    "start = '2020-05-28'\n",
    "\n",
    "\n",
    "# Read data \n",
    "df_year = yf.download(symbol,start,end)\n",
    "\n",
    "df_year.tail()"
   ]
  },
  {
   "cell_type": "code",
   "execution_count": 7,
   "metadata": {},
   "outputs": [],
   "source": [
    "ret = df_year['Close'].pct_change()[1:]"
   ]
  },
  {
   "cell_type": "code",
   "execution_count": 8,
   "metadata": {},
   "outputs": [
    {
     "data": {
      "text/plain": [
       "Date\n",
       "2020-05-29    0.006648\n",
       "2020-06-01    0.034339\n",
       "2020-06-02    0.028572\n",
       "2020-06-03    0.019995\n",
       "2020-06-04   -0.026277\n",
       "Name: Close, dtype: float64"
      ]
     },
     "execution_count": 8,
     "metadata": {},
     "output_type": "execute_result"
    }
   ],
   "source": [
    "ret.head()"
   ]
  },
  {
   "cell_type": "code",
   "execution_count": 9,
   "metadata": {},
   "outputs": [
    {
     "data": {
      "text/plain": [
       "0.018580334637206992"
      ]
     },
     "execution_count": 9,
     "metadata": {},
     "output_type": "execute_result"
    }
   ],
   "source": [
    "daily_vol = ret.std()\n",
    "daily_vol"
   ]
  },
  {
   "cell_type": "code",
   "execution_count": 10,
   "metadata": {},
   "outputs": [
    {
     "data": {
      "text/plain": [
       "0.2949536683584554"
      ]
     },
     "execution_count": 10,
     "metadata": {},
     "output_type": "execute_result"
    }
   ],
   "source": [
    "vol = daily_vol*252**0.5\n",
    "vol"
   ]
  },
  {
   "cell_type": "code",
   "execution_count": 11,
   "metadata": {},
   "outputs": [],
   "source": [
    "expiry = datetime.strptime('2021-06-24', '%Y-%m-%d')   #Expiry date"
   ]
  },
  {
   "cell_type": "code",
   "execution_count": 12,
   "metadata": {},
   "outputs": [
    {
     "data": {
      "text/plain": [
       "TimedeltaIndex(['27 days', '24 days', '23 days', '22 days', '21 days',\n",
       "                '20 days', '17 days', '16 days', '15 days', '14 days',\n",
       "                '13 days', '10 days',  '9 days',  '8 days',  '7 days',\n",
       "                 '6 days',  '3 days',  '2 days',  '1 days',  '0 days'],\n",
       "               dtype='timedelta64[ns]', name='Date', freq=None)"
      ]
     },
     "execution_count": 12,
     "metadata": {},
     "output_type": "execute_result"
    }
   ],
   "source": [
    "time = expiry-df.index    #Time left in days\n",
    "time"
   ]
  },
  {
   "cell_type": "code",
   "execution_count": 13,
   "metadata": {},
   "outputs": [
    {
     "data": {
      "text/plain": [
       "Int64Index([27, 24, 23, 22, 21, 20, 17, 16, 15, 14, 13, 10, 9, 8, 7, 6, 3, 2,\n",
       "            1, 0],\n",
       "           dtype='int64', name='Date')"
      ]
     },
     "execution_count": 13,
     "metadata": {},
     "output_type": "execute_result"
    }
   ],
   "source": [
    "time = pd.to_timedelta(time, errors='coerce').days  #Time left in days converted to int data type\n",
    "time"
   ]
  },
  {
   "cell_type": "markdown",
   "metadata": {},
   "source": [
    "### Initial buying and selling"
   ]
  },
  {
   "cell_type": "code",
   "execution_count": 14,
   "metadata": {},
   "outputs": [],
   "source": [
    "no_of_lots_fut = 10           #number of future lots we bought at start of the month\n",
    "buy_avg_future = df_fut['Open'][0]       #buying average of that lot\n",
    "lot_size = 25     #lot size of bank nifty\n",
    "delta = 1*no_of_lots_fut*lot_size    #taking delta of future is 1 as if banknifty changes by 1 the future would also change by 1\n",
    "delta_to_maintain = 0.8*no_of_lots_fut*lot_size    #we will maintain 0.8 delta per future contract"
   ]
  },
  {
   "cell_type": "code",
   "execution_count": 15,
   "metadata": {},
   "outputs": [
    {
     "data": {
      "text/plain": [
       "11.175180281228103"
      ]
     },
     "execution_count": 15,
     "metadata": {},
     "output_type": "execute_result"
    }
   ],
   "source": [
    "flag = 'c'   #for call or put option\n",
    "S = df['Open'][0]    #price of the underlying\n",
    "K = 36000   #strike price\n",
    "t = time[0]/365   #time left to expiry in years\n",
    "sigma = vol   #volatility\n",
    "r = 0.06  #risk free rate\n",
    "delta_per_lot_call = derivatives.delta(flag, S, K, t, r, sigma)*lot_size   #to calculate delta per lot\n",
    "delta_per_lot_call"
   ]
  },
  {
   "cell_type": "code",
   "execution_count": 16,
   "metadata": {},
   "outputs": [
    {
     "data": {
      "text/plain": [
       "200.0"
      ]
     },
     "execution_count": 16,
     "metadata": {},
     "output_type": "execute_result"
    }
   ],
   "source": [
    "delta_to_maintain"
   ]
  },
  {
   "cell_type": "code",
   "execution_count": 17,
   "metadata": {},
   "outputs": [
    {
     "data": {
      "text/plain": [
       "250"
      ]
     },
     "execution_count": 17,
     "metadata": {},
     "output_type": "execute_result"
    }
   ],
   "source": [
    "delta"
   ]
  },
  {
   "cell_type": "code",
   "execution_count": 18,
   "metadata": {},
   "outputs": [],
   "source": [
    "number_of_lots_call = math.ceil((delta-delta_to_maintain)/delta_per_lot_call)  #number of call lots we have to sell to keep delta of 200"
   ]
  },
  {
   "cell_type": "code",
   "execution_count": 19,
   "metadata": {},
   "outputs": [
    {
     "data": {
      "text/plain": [
       "5"
      ]
     },
     "execution_count": 19,
     "metadata": {},
     "output_type": "execute_result"
    }
   ],
   "source": [
    "number_of_lots_call"
   ]
  },
  {
   "cell_type": "code",
   "execution_count": 20,
   "metadata": {},
   "outputs": [
    {
     "data": {
      "text/plain": [
       "849.95"
      ]
     },
     "execution_count": 20,
     "metadata": {},
     "output_type": "execute_result"
    }
   ],
   "source": [
    "sell_avg_call = df_call_36000['Open'][0]  #selling avg of call \n",
    "sell_avg_call"
   ]
  },
  {
   "cell_type": "markdown",
   "metadata": {},
   "source": [
    "### Managing delta"
   ]
  },
  {
   "cell_type": "code",
   "execution_count": 21,
   "metadata": {},
   "outputs": [],
   "source": [
    "number_of_lots_call = math.ceil((delta-delta_to_maintain)/delta_per_lot_call)  #number of call lots we have to sell to keep delta of 200\n",
    "sell_avg_call = df_call_36000['Open'][0]  #selling avg of call \n",
    "profit= []\n",
    "for i in range(len(df)-1):\n",
    "    delta_per_lot_call = derivatives.delta(flag, df['Close'][i], 36000, time[i]/365, r, sigma)*lot_size  #Calculation of delta per lot at the next closing day\n",
    "    current_number_of_lots_call = math.ceil((delta-delta_to_maintain)/delta_per_lot_call)   #number of lots required to sell\n",
    "    no_of_lots_added = current_number_of_lots_call - number_of_lots_call   #number of lots added/subtracted for selling\n",
    "    sell_avg_call = (sell_avg_call*number_of_lots_call + no_of_lots_added*df_call_36000['Close'][i])/current_number_of_lots_call  #new selling avg of call\n",
    "    number_of_lots_call = current_number_of_lots_call    #updating number of lots of calls sold\n",
    "    profit.append((df_fut['Close'][i]-buy_avg_future)*no_of_lots_fut*lot_size + (sell_avg_call-df_call_36000['Close'][i])*lot_size*number_of_lots_call)  #unrealised profit \n",
    "    #print(df_fut['Close'][i], buy_avg_future, sell_avg_call, df_call_36000['Close'][i])"
   ]
  },
  {
   "cell_type": "code",
   "execution_count": 22,
   "metadata": {},
   "outputs": [
    {
     "data": {
      "text/plain": [
       "429"
      ]
     },
     "execution_count": 22,
     "metadata": {},
     "output_type": "execute_result"
    }
   ],
   "source": [
    "#As you can see that the number of lots of call sold is way too many as the delta of out of money call option approches 0 in the end\n",
    "#Thus this strategy would practically be possible by changing the strike price of the call option as it goes deep out of money\n",
    "#But that would require much higher level programming thats why we have given this simple assignment jst theoretically make\n",
    "#you realise the power of hedging\n",
    "number_of_lots_call"
   ]
  },
  {
   "cell_type": "code",
   "execution_count": 23,
   "metadata": {},
   "outputs": [
    {
     "data": {
      "text/plain": [
       "20.093822843822842"
      ]
     },
     "execution_count": 23,
     "metadata": {},
     "output_type": "execute_result"
    }
   ],
   "source": [
    "sell_avg_call"
   ]
  },
  {
   "cell_type": "code",
   "execution_count": 24,
   "metadata": {},
   "outputs": [
    {
     "data": {
      "text/plain": [
       "0.1166812047191243"
      ]
     },
     "execution_count": 24,
     "metadata": {},
     "output_type": "execute_result"
    }
   ],
   "source": [
    "delta_per_lot_call"
   ]
  },
  {
   "cell_type": "code",
   "execution_count": 25,
   "metadata": {},
   "outputs": [
    {
     "data": {
      "text/plain": [
       "[-29406.24999999926,\n",
       " 35600.000000000364,\n",
       " 12437.499999999643,\n",
       " 35968.75,\n",
       " 89681.24999999927,\n",
       " 39975.00000000001,\n",
       " 69912.49999999927,\n",
       " 4175.00000000072,\n",
       " -62645.000000000364,\n",
       " 9101.249999999622,\n",
       " -5668.750000000378,\n",
       " -21171.250000000364,\n",
       " 39702.50000000038,\n",
       " -8762.50000000035,\n",
       " -95720.0000000007,\n",
       " -109927.49999999997,\n",
       " -29100.00000000032,\n",
       " -58271.24999999923,\n",
       " -93141.24999999967]"
      ]
     },
     "execution_count": 25,
     "metadata": {},
     "output_type": "execute_result"
    }
   ],
   "source": [
    "profit"
   ]
  },
  {
   "cell_type": "code",
   "execution_count": 26,
   "metadata": {},
   "outputs": [
    {
     "data": {
      "text/plain": [
       "<matplotlib.legend.Legend at 0x26de81eaef0>"
      ]
     },
     "execution_count": 26,
     "metadata": {},
     "output_type": "execute_result"
    },
    {
     "data": {
      "image/png": "[encoded data removed]",
      "text/plain": [
       "<Figure size 432x288 with 1 Axes>"
      ]
     },
     "metadata": {
      "needs_background": "light"
     },
     "output_type": "display_data"
    }
   ],
   "source": [
    "plt.plot(profit, label = 'strategy_profit')\n",
    "plt.plot((df_fut['Close']-df_fut['Open'][0])[:-1]*250, label = 'futures_profit')\n",
    "plt.legend()"
   ]
  },
  {
   "cell_type": "markdown",
   "metadata": {},
   "source": [
    "As you can see from the above graph of the strategy that though the futures did fall very down but<br/>\n",
    "We were able to hedge this with selling of call option and our strategy did give better returns overall<br/>\n",
    "<br/>"
   ]
  }
 ],
 "metadata": {
  "kernelspec": {
   "display_name": "Python 3",
   "language": "python",
   "name": "python3"
  },
  "language_info": {
   "codemirror_mode": {
    "name": "ipython",
    "version": 3
   },
   "file_extension": ".py",
   "mimetype": "text/x-python",
   "name": "python",
   "nbconvert_exporter": "python",
   "pygments_lexer": "ipython3",
   "version": "3.7.3"
  }
 },
 "nbformat": 4,
 "nbformat_minor": 2
}
