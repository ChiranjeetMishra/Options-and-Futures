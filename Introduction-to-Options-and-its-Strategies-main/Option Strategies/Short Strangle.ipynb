{
 "cells": [
  {
   "cell_type": "markdown",
   "metadata": {},
   "source": [
    "# Short Strangle with delta hedging"
   ]
  },
  {
   "cell_type": "markdown",
   "metadata": {},
   "source": [
    "Coming to the reality we can't predict market accurately and it may lead to loss.<br/>\n",
    "So in practice market neutral strategies are very helpful and can give decent returns with very less risk<br/>\n",
    "One such strategy is to sell put and call options such that the overall delta of our positions remains 0."
   ]
  },
  {
   "cell_type": "markdown",
   "metadata": {},
   "source": [
    "## Importing important libraries"
   ]
  },
  {
   "cell_type": "code",
   "execution_count": 9,
   "metadata": {},
   "outputs": [],
   "source": [
    "import pandas as pd\n",
    "import matplotlib.pyplot as plt\n",
    "import numpy as np\n",
    "\n",
    "from datetime import date\n",
    "from datetime import datetime\n",
    "\n",
    "import warnings\n",
    "warnings.filterwarnings(\"ignore\")\n",
    "\n",
    "# to fetch data \n",
    "import yfinance as yf\n",
    "\n",
    "import scipy.stats as ss\n",
    "\n",
    "import py_vollib.black_scholes.greeks.analytical as derivatives\n",
    "\n",
    "import math"
   ]
  },
  {
   "cell_type": "markdown",
   "metadata": {},
   "source": [
    "## Importing Data"
   ]
  },
  {
   "cell_type": "code",
   "execution_count": 2,
   "metadata": {},
   "outputs": [
    {
     "data": {
      "text/html": [
       "<div>\n",
       "<style scoped>\n",
       "    .dataframe tbody tr th:only-of-type {\n",
       "        vertical-align: middle;\n",
       "    }\n",
       "\n",
       "    .dataframe tbody tr th {\n",
       "        vertical-align: top;\n",
       "    }\n",
       "\n",
       "    .dataframe thead th {\n",
       "        text-align: right;\n",
       "    }\n",
       "</style>\n",
       "<table border=\"1\" class=\"dataframe\">\n",
       "  <thead>\n",
       "    <tr style=\"text-align: right;\">\n",
       "      <th></th>\n",
       "      <th>Symbol</th>\n",
       "      <th>Date</th>\n",
       "      <th>Expiry</th>\n",
       "      <th>Option Type</th>\n",
       "      <th>Strike Price</th>\n",
       "      <th>Open</th>\n",
       "      <th>High</th>\n",
       "      <th>Low</th>\n",
       "      <th>Close</th>\n",
       "      <th>LTP</th>\n",
       "      <th>Settle Price</th>\n",
       "      <th>No. of contracts</th>\n",
       "      <th>Turnover in Lacs</th>\n",
       "      <th>Premium Turnover in Lacs</th>\n",
       "      <th>Open Int</th>\n",
       "      <th>Change in OI</th>\n",
       "      <th>Underlying Value</th>\n",
       "    </tr>\n",
       "  </thead>\n",
       "  <tbody>\n",
       "    <tr>\n",
       "      <th>0</th>\n",
       "      <td>BANKNIFTY</td>\n",
       "      <td>28-May-2021</td>\n",
       "      <td>24-Jun-2021</td>\n",
       "      <td>CE</td>\n",
       "      <td>35000</td>\n",
       "      <td>1394.65</td>\n",
       "      <td>1459.5</td>\n",
       "      <td>1132.0</td>\n",
       "      <td>1213.55</td>\n",
       "      <td>1224.50</td>\n",
       "      <td>1213.55</td>\n",
       "      <td>18138</td>\n",
       "      <td>164479.84</td>\n",
       "      <td>5772.34</td>\n",
       "      <td>283425</td>\n",
       "      <td>39000</td>\n",
       "      <td>35141.45</td>\n",
       "    </tr>\n",
       "    <tr>\n",
       "      <th>1</th>\n",
       "      <td>BANKNIFTY</td>\n",
       "      <td>31-May-2021</td>\n",
       "      <td>24-Jun-2021</td>\n",
       "      <td>CE</td>\n",
       "      <td>35000</td>\n",
       "      <td>1197.95</td>\n",
       "      <td>1339.0</td>\n",
       "      <td>1021.6</td>\n",
       "      <td>1308.30</td>\n",
       "      <td>1281.95</td>\n",
       "      <td>1308.30</td>\n",
       "      <td>14456</td>\n",
       "      <td>130864.56</td>\n",
       "      <td>4374.56</td>\n",
       "      <td>245275</td>\n",
       "      <td>-38150</td>\n",
       "      <td>-</td>\n",
       "    </tr>\n",
       "    <tr>\n",
       "      <th>2</th>\n",
       "      <td>BANKNIFTY</td>\n",
       "      <td>01-Jun-2021</td>\n",
       "      <td>24-Jun-2021</td>\n",
       "      <td>CE</td>\n",
       "      <td>35000</td>\n",
       "      <td>1291.90</td>\n",
       "      <td>1398.0</td>\n",
       "      <td>1112.3</td>\n",
       "      <td>1155.05</td>\n",
       "      <td>1163.00</td>\n",
       "      <td>1155.05</td>\n",
       "      <td>15231</td>\n",
       "      <td>137967.95</td>\n",
       "      <td>4696.70</td>\n",
       "      <td>345025</td>\n",
       "      <td>99750</td>\n",
       "      <td>-</td>\n",
       "    </tr>\n",
       "    <tr>\n",
       "      <th>3</th>\n",
       "      <td>BANKNIFTY</td>\n",
       "      <td>02-Jun-2021</td>\n",
       "      <td>24-Jun-2021</td>\n",
       "      <td>CE</td>\n",
       "      <td>35000</td>\n",
       "      <td>1099.30</td>\n",
       "      <td>1145.7</td>\n",
       "      <td>982.5</td>\n",
       "      <td>1128.05</td>\n",
       "      <td>1122.00</td>\n",
       "      <td>1128.05</td>\n",
       "      <td>12258</td>\n",
       "      <td>110507.46</td>\n",
       "      <td>3249.96</td>\n",
       "      <td>342375</td>\n",
       "      <td>-2650</td>\n",
       "      <td>-</td>\n",
       "    </tr>\n",
       "    <tr>\n",
       "      <th>4</th>\n",
       "      <td>BANKNIFTY</td>\n",
       "      <td>03-Jun-2021</td>\n",
       "      <td>24-Jun-2021</td>\n",
       "      <td>CE</td>\n",
       "      <td>35000</td>\n",
       "      <td>1163.20</td>\n",
       "      <td>1342.5</td>\n",
       "      <td>1111.7</td>\n",
       "      <td>1265.45</td>\n",
       "      <td>1270.00</td>\n",
       "      <td>1265.45</td>\n",
       "      <td>7511</td>\n",
       "      <td>68025.76</td>\n",
       "      <td>2304.51</td>\n",
       "      <td>307825</td>\n",
       "      <td>-34550</td>\n",
       "      <td>-</td>\n",
       "    </tr>\n",
       "  </tbody>\n",
       "</table>\n",
       "</div>"
      ],
      "text/plain": [
       "      Symbol         Date       Expiry Option Type  Strike Price     Open  \\\n",
       "0  BANKNIFTY  28-May-2021  24-Jun-2021          CE         35000  1394.65   \n",
       "1  BANKNIFTY  31-May-2021  24-Jun-2021          CE         35000  1197.95   \n",
       "2  BANKNIFTY  01-Jun-2021  24-Jun-2021          CE         35000  1291.90   \n",
       "3  BANKNIFTY  02-Jun-2021  24-Jun-2021          CE         35000  1099.30   \n",
       "4  BANKNIFTY  03-Jun-2021  24-Jun-2021          CE         35000  1163.20   \n",
       "\n",
       "     High     Low    Close      LTP  Settle Price  No. of contracts  \\\n",
       "0  1459.5  1132.0  1213.55  1224.50       1213.55             18138   \n",
       "1  1339.0  1021.6  1308.30  1281.95       1308.30             14456   \n",
       "2  1398.0  1112.3  1155.05  1163.00       1155.05             15231   \n",
       "3  1145.7   982.5  1128.05  1122.00       1128.05             12258   \n",
       "4  1342.5  1111.7  1265.45  1270.00       1265.45              7511   \n",
       "\n",
       "   Turnover in Lacs  Premium Turnover in Lacs  Open Int  Change in OI  \\\n",
       "0         164479.84                   5772.34    283425         39000   \n",
       "1         130864.56                   4374.56    245275        -38150   \n",
       "2         137967.95                   4696.70    345025         99750   \n",
       "3         110507.46                   3249.96    342375         -2650   \n",
       "4          68025.76                   2304.51    307825        -34550   \n",
       "\n",
       "  Underlying Value  \n",
       "0         35141.45  \n",
       "1                -  \n",
       "2                -  \n",
       "3                -  \n",
       "4                -  "
      ]
     },
     "execution_count": 2,
     "metadata": {},
     "output_type": "execute_result"
    }
   ],
   "source": [
    "df_call_35000 = pd.read_csv('D:\\chrome\\OPTIDX_BANKNIFTY_CE_28-May-2021_TO_24-Jun-2021 (1).csv')\n",
    "df_call_35000.head()"
   ]
  },
  {
   "cell_type": "code",
   "execution_count": 3,
   "metadata": {},
   "outputs": [
    {
     "data": {
      "text/html": [
       "<div>\n",
       "<style scoped>\n",
       "    .dataframe tbody tr th:only-of-type {\n",
       "        vertical-align: middle;\n",
       "    }\n",
       "\n",
       "    .dataframe tbody tr th {\n",
       "        vertical-align: top;\n",
       "    }\n",
       "\n",
       "    .dataframe thead th {\n",
       "        text-align: right;\n",
       "    }\n",
       "</style>\n",
       "<table border=\"1\" class=\"dataframe\">\n",
       "  <thead>\n",
       "    <tr style=\"text-align: right;\">\n",
       "      <th></th>\n",
       "      <th>Symbol</th>\n",
       "      <th>Date</th>\n",
       "      <th>Expiry</th>\n",
       "      <th>Option Type</th>\n",
       "      <th>Strike Price</th>\n",
       "      <th>Open</th>\n",
       "      <th>High</th>\n",
       "      <th>Low</th>\n",
       "      <th>Close</th>\n",
       "      <th>LTP</th>\n",
       "      <th>Settle Price</th>\n",
       "      <th>No. of contracts</th>\n",
       "      <th>Turnover in Lacs</th>\n",
       "      <th>Premium Turnover in Lacs</th>\n",
       "      <th>Open Int</th>\n",
       "      <th>Change in OI</th>\n",
       "      <th>Underlying Value</th>\n",
       "    </tr>\n",
       "  </thead>\n",
       "  <tbody>\n",
       "    <tr>\n",
       "      <th>0</th>\n",
       "      <td>BANKNIFTY</td>\n",
       "      <td>28-May-2021</td>\n",
       "      <td>24-Jun-2021</td>\n",
       "      <td>PE</td>\n",
       "      <td>35000</td>\n",
       "      <td>940.00</td>\n",
       "      <td>984.85</td>\n",
       "      <td>820.20</td>\n",
       "      <td>907.15</td>\n",
       "      <td>856.0</td>\n",
       "      <td>907.15</td>\n",
       "      <td>30957</td>\n",
       "      <td>277944.81</td>\n",
       "      <td>7071.06</td>\n",
       "      <td>217275</td>\n",
       "      <td>-3850</td>\n",
       "      <td>35141.45</td>\n",
       "    </tr>\n",
       "    <tr>\n",
       "      <th>1</th>\n",
       "      <td>BANKNIFTY</td>\n",
       "      <td>31-May-2021</td>\n",
       "      <td>24-Jun-2021</td>\n",
       "      <td>PE</td>\n",
       "      <td>35000</td>\n",
       "      <td>886.00</td>\n",
       "      <td>975.50</td>\n",
       "      <td>690.45</td>\n",
       "      <td>706.40</td>\n",
       "      <td>713.9</td>\n",
       "      <td>706.40</td>\n",
       "      <td>22393</td>\n",
       "      <td>200373.31</td>\n",
       "      <td>4434.56</td>\n",
       "      <td>215875</td>\n",
       "      <td>-1400</td>\n",
       "      <td>-</td>\n",
       "    </tr>\n",
       "    <tr>\n",
       "      <th>2</th>\n",
       "      <td>BANKNIFTY</td>\n",
       "      <td>01-Jun-2021</td>\n",
       "      <td>24-Jun-2021</td>\n",
       "      <td>PE</td>\n",
       "      <td>35000</td>\n",
       "      <td>682.35</td>\n",
       "      <td>795.25</td>\n",
       "      <td>605.40</td>\n",
       "      <td>701.25</td>\n",
       "      <td>697.0</td>\n",
       "      <td>701.25</td>\n",
       "      <td>22207</td>\n",
       "      <td>198214.51</td>\n",
       "      <td>3903.26</td>\n",
       "      <td>245775</td>\n",
       "      <td>29900</td>\n",
       "      <td>-</td>\n",
       "    </tr>\n",
       "    <tr>\n",
       "      <th>3</th>\n",
       "      <td>BANKNIFTY</td>\n",
       "      <td>02-Jun-2021</td>\n",
       "      <td>24-Jun-2021</td>\n",
       "      <td>PE</td>\n",
       "      <td>35000</td>\n",
       "      <td>747.50</td>\n",
       "      <td>799.95</td>\n",
       "      <td>581.80</td>\n",
       "      <td>601.55</td>\n",
       "      <td>587.7</td>\n",
       "      <td>601.55</td>\n",
       "      <td>18375</td>\n",
       "      <td>164002.20</td>\n",
       "      <td>3220.95</td>\n",
       "      <td>235300</td>\n",
       "      <td>-10475</td>\n",
       "      <td>-</td>\n",
       "    </tr>\n",
       "    <tr>\n",
       "      <th>4</th>\n",
       "      <td>BANKNIFTY</td>\n",
       "      <td>03-Jun-2021</td>\n",
       "      <td>24-Jun-2021</td>\n",
       "      <td>PE</td>\n",
       "      <td>35000</td>\n",
       "      <td>486.50</td>\n",
       "      <td>564.00</td>\n",
       "      <td>447.15</td>\n",
       "      <td>484.85</td>\n",
       "      <td>489.0</td>\n",
       "      <td>484.85</td>\n",
       "      <td>19913</td>\n",
       "      <td>176748.22</td>\n",
       "      <td>2509.47</td>\n",
       "      <td>217500</td>\n",
       "      <td>-17800</td>\n",
       "      <td>-</td>\n",
       "    </tr>\n",
       "  </tbody>\n",
       "</table>\n",
       "</div>"
      ],
      "text/plain": [
       "      Symbol         Date       Expiry Option Type  Strike Price    Open  \\\n",
       "0  BANKNIFTY  28-May-2021  24-Jun-2021          PE         35000  940.00   \n",
       "1  BANKNIFTY  31-May-2021  24-Jun-2021          PE         35000  886.00   \n",
       "2  BANKNIFTY  01-Jun-2021  24-Jun-2021          PE         35000  682.35   \n",
       "3  BANKNIFTY  02-Jun-2021  24-Jun-2021          PE         35000  747.50   \n",
       "4  BANKNIFTY  03-Jun-2021  24-Jun-2021          PE         35000  486.50   \n",
       "\n",
       "     High     Low   Close    LTP  Settle Price  No. of contracts  \\\n",
       "0  984.85  820.20  907.15  856.0        907.15             30957   \n",
       "1  975.50  690.45  706.40  713.9        706.40             22393   \n",
       "2  795.25  605.40  701.25  697.0        701.25             22207   \n",
       "3  799.95  581.80  601.55  587.7        601.55             18375   \n",
       "4  564.00  447.15  484.85  489.0        484.85             19913   \n",
       "\n",
       "   Turnover in Lacs  Premium Turnover in Lacs  Open Int  Change in OI  \\\n",
       "0         277944.81                   7071.06    217275         -3850   \n",
       "1         200373.31                   4434.56    215875         -1400   \n",
       "2         198214.51                   3903.26    245775         29900   \n",
       "3         164002.20                   3220.95    235300        -10475   \n",
       "4         176748.22                   2509.47    217500        -17800   \n",
       "\n",
       "  Underlying Value  \n",
       "0         35141.45  \n",
       "1                -  \n",
       "2                -  \n",
       "3                -  \n",
       "4                -  "
      ]
     },
     "execution_count": 3,
     "metadata": {},
     "output_type": "execute_result"
    }
   ],
   "source": [
    "df_put_35000 = pd.read_csv('D:\\chrome\\OPTIDX_BANKNIFTY_PE_28-May-2021_TO_24-Jun-2021.csv')\n",
    "df_put_35000.head()"
   ]
  },
  {
   "cell_type": "code",
   "execution_count": 4,
   "metadata": {},
   "outputs": [
    {
     "name": "stdout",
     "output_type": "stream",
     "text": [
      "[*********************100%***********************]  1 of 1 completed\n"
     ]
    },
    {
     "data": {
      "text/html": [
       "<div>\n",
       "<style scoped>\n",
       "    .dataframe tbody tr th:only-of-type {\n",
       "        vertical-align: middle;\n",
       "    }\n",
       "\n",
       "    .dataframe tbody tr th {\n",
       "        vertical-align: top;\n",
       "    }\n",
       "\n",
       "    .dataframe thead th {\n",
       "        text-align: right;\n",
       "    }\n",
       "</style>\n",
       "<table border=\"1\" class=\"dataframe\">\n",
       "  <thead>\n",
       "    <tr style=\"text-align: right;\">\n",
       "      <th></th>\n",
       "      <th>Open</th>\n",
       "      <th>High</th>\n",
       "      <th>Low</th>\n",
       "      <th>Close</th>\n",
       "      <th>Adj Close</th>\n",
       "      <th>Volume</th>\n",
       "    </tr>\n",
       "    <tr>\n",
       "      <th>Date</th>\n",
       "      <th></th>\n",
       "      <th></th>\n",
       "      <th></th>\n",
       "      <th></th>\n",
       "      <th></th>\n",
       "      <th></th>\n",
       "    </tr>\n",
       "  </thead>\n",
       "  <tbody>\n",
       "    <tr>\n",
       "      <th>2021-05-28</th>\n",
       "      <td>35345.648438</td>\n",
       "      <td>35436.648438</td>\n",
       "      <td>34977.199219</td>\n",
       "      <td>35141.449219</td>\n",
       "      <td>35141.449219</td>\n",
       "      <td>0</td>\n",
       "    </tr>\n",
       "    <tr>\n",
       "      <th>2021-05-31</th>\n",
       "      <td>35097.449219</td>\n",
       "      <td>35584.300781</td>\n",
       "      <td>34930.101562</td>\n",
       "      <td>35526.648438</td>\n",
       "      <td>35526.648438</td>\n",
       "      <td>0</td>\n",
       "    </tr>\n",
       "    <tr>\n",
       "      <th>2021-06-01</th>\n",
       "      <td>35639.750000</td>\n",
       "      <td>35713.898438</td>\n",
       "      <td>35241.199219</td>\n",
       "      <td>35337.199219</td>\n",
       "      <td>35337.199219</td>\n",
       "      <td>0</td>\n",
       "    </tr>\n",
       "    <tr>\n",
       "      <th>2021-06-02</th>\n",
       "      <td>35271.601562</td>\n",
       "      <td>35415.851562</td>\n",
       "      <td>35070.300781</td>\n",
       "      <td>35373.750000</td>\n",
       "      <td>35373.750000</td>\n",
       "      <td>0</td>\n",
       "    </tr>\n",
       "    <tr>\n",
       "      <th>2021-06-03</th>\n",
       "      <td>35536.449219</td>\n",
       "      <td>35723.699219</td>\n",
       "      <td>35413.000000</td>\n",
       "      <td>35649.000000</td>\n",
       "      <td>35649.000000</td>\n",
       "      <td>0</td>\n",
       "    </tr>\n",
       "  </tbody>\n",
       "</table>\n",
       "</div>"
      ],
      "text/plain": [
       "                    Open          High           Low         Close  \\\n",
       "Date                                                                 \n",
       "2021-05-28  35345.648438  35436.648438  34977.199219  35141.449219   \n",
       "2021-05-31  35097.449219  35584.300781  34930.101562  35526.648438   \n",
       "2021-06-01  35639.750000  35713.898438  35241.199219  35337.199219   \n",
       "2021-06-02  35271.601562  35415.851562  35070.300781  35373.750000   \n",
       "2021-06-03  35536.449219  35723.699219  35413.000000  35649.000000   \n",
       "\n",
       "               Adj Close  Volume  \n",
       "Date                              \n",
       "2021-05-28  35141.449219       0  \n",
       "2021-05-31  35526.648438       0  \n",
       "2021-06-01  35337.199219       0  \n",
       "2021-06-02  35373.750000       0  \n",
       "2021-06-03  35649.000000       0  "
      ]
     },
     "execution_count": 4,
     "metadata": {},
     "output_type": "execute_result"
    }
   ],
   "source": [
    "symbol = '^NSEBANK'\n",
    "end = '2021-06-25'\n",
    "start = '2021-05-28'\n",
    "\n",
    "\n",
    "# Read data \n",
    "df = yf.download(symbol,start,end)\n",
    "\n",
    "df.head()"
   ]
  },
  {
   "cell_type": "markdown",
   "metadata": {},
   "source": [
    "### Calculation of annual volatility and time remaining for expiry used in calculation of delta"
   ]
  },
  {
   "cell_type": "code",
   "execution_count": 5,
   "metadata": {},
   "outputs": [
    {
     "name": "stdout",
     "output_type": "stream",
     "text": [
      "[*********************100%***********************]  1 of 1 completed\n"
     ]
    },
    {
     "data": {
      "text/html": [
       "<div>\n",
       "<style scoped>\n",
       "    .dataframe tbody tr th:only-of-type {\n",
       "        vertical-align: middle;\n",
       "    }\n",
       "\n",
       "    .dataframe tbody tr th {\n",
       "        vertical-align: top;\n",
       "    }\n",
       "\n",
       "    .dataframe thead th {\n",
       "        text-align: right;\n",
       "    }\n",
       "</style>\n",
       "<table border=\"1\" class=\"dataframe\">\n",
       "  <thead>\n",
       "    <tr style=\"text-align: right;\">\n",
       "      <th></th>\n",
       "      <th>Open</th>\n",
       "      <th>High</th>\n",
       "      <th>Low</th>\n",
       "      <th>Close</th>\n",
       "      <th>Adj Close</th>\n",
       "      <th>Volume</th>\n",
       "    </tr>\n",
       "    <tr>\n",
       "      <th>Date</th>\n",
       "      <th></th>\n",
       "      <th></th>\n",
       "      <th></th>\n",
       "      <th></th>\n",
       "      <th></th>\n",
       "      <th></th>\n",
       "    </tr>\n",
       "  </thead>\n",
       "  <tbody>\n",
       "    <tr>\n",
       "      <th>2021-05-21</th>\n",
       "      <td>33559.800781</td>\n",
       "      <td>34694.449219</td>\n",
       "      <td>33559.750000</td>\n",
       "      <td>34606.898438</td>\n",
       "      <td>34606.898438</td>\n",
       "      <td>0</td>\n",
       "    </tr>\n",
       "    <tr>\n",
       "      <th>2021-05-24</th>\n",
       "      <td>34869.300781</td>\n",
       "      <td>35216.101562</td>\n",
       "      <td>34528.300781</td>\n",
       "      <td>34943.601562</td>\n",
       "      <td>34943.601562</td>\n",
       "      <td>0</td>\n",
       "    </tr>\n",
       "    <tr>\n",
       "      <th>2021-05-25</th>\n",
       "      <td>35095.000000</td>\n",
       "      <td>35125.851562</td>\n",
       "      <td>34410.398438</td>\n",
       "      <td>34662.000000</td>\n",
       "      <td>34662.000000</td>\n",
       "      <td>0</td>\n",
       "    </tr>\n",
       "    <tr>\n",
       "      <th>2021-05-26</th>\n",
       "      <td>34757.148438</td>\n",
       "      <td>34897.949219</td>\n",
       "      <td>34462.500000</td>\n",
       "      <td>34684.199219</td>\n",
       "      <td>34684.199219</td>\n",
       "      <td>0</td>\n",
       "    </tr>\n",
       "    <tr>\n",
       "      <th>2021-05-27</th>\n",
       "      <td>34664.199219</td>\n",
       "      <td>35220.800781</td>\n",
       "      <td>34529.699219</td>\n",
       "      <td>35095.050781</td>\n",
       "      <td>35095.050781</td>\n",
       "      <td>0</td>\n",
       "    </tr>\n",
       "  </tbody>\n",
       "</table>\n",
       "</div>"
      ],
      "text/plain": [
       "                    Open          High           Low         Close  \\\n",
       "Date                                                                 \n",
       "2021-05-21  33559.800781  34694.449219  33559.750000  34606.898438   \n",
       "2021-05-24  34869.300781  35216.101562  34528.300781  34943.601562   \n",
       "2021-05-25  35095.000000  35125.851562  34410.398438  34662.000000   \n",
       "2021-05-26  34757.148438  34897.949219  34462.500000  34684.199219   \n",
       "2021-05-27  34664.199219  35220.800781  34529.699219  35095.050781   \n",
       "\n",
       "               Adj Close  Volume  \n",
       "Date                              \n",
       "2021-05-21  34606.898438       0  \n",
       "2021-05-24  34943.601562       0  \n",
       "2021-05-25  34662.000000       0  \n",
       "2021-05-26  34684.199219       0  \n",
       "2021-05-27  35095.050781       0  "
      ]
     },
     "execution_count": 5,
     "metadata": {},
     "output_type": "execute_result"
    }
   ],
   "source": [
    "symbol = '^NSEBANK'\n",
    "end = '2021-05-28'\n",
    "start = '2020-05-28'\n",
    "\n",
    "\n",
    "# Read data \n",
    "df_year = yf.download(symbol,start,end)\n",
    "\n",
    "df_year.tail()"
   ]
  },
  {
   "cell_type": "code",
   "execution_count": 6,
   "metadata": {},
   "outputs": [],
   "source": [
    "def annual_vol(df):\n",
    "    \"\"\"\n",
    "    Function to calculate annual volatility\n",
    "    \n",
    "    Parameters\n",
    "    ----------\n",
    "    df : dataframe\n",
    "         Stock info\n",
    "\n",
    "    Returns\n",
    "    -------\n",
    "    vol : float\n",
    "        annual volatility of the stock\n",
    "    \"\"\"\n",
    "    \n",
    "    ret = df['Close'].pct_change()[1:] \n",
    "    daily_vol = ret.std()\n",
    "    vol = daily_vol*(252**0.5)\n",
    "    \n",
    "    return vol"
   ]
  },
  {
   "cell_type": "code",
   "execution_count": 7,
   "metadata": {},
   "outputs": [
    {
     "data": {
      "text/plain": [
       "0.2949536683584554"
      ]
     },
     "execution_count": 7,
     "metadata": {},
     "output_type": "execute_result"
    }
   ],
   "source": [
    "vol = annual_vol(df_year)\n",
    "vol"
   ]
  },
  {
   "cell_type": "code",
   "execution_count": 10,
   "metadata": {},
   "outputs": [],
   "source": [
    "expiry = datetime.strptime('2021-06-24', '%Y-%m-%d')   #Expiry date"
   ]
  },
  {
   "cell_type": "code",
   "execution_count": 11,
   "metadata": {},
   "outputs": [
    {
     "data": {
      "text/plain": [
       "TimedeltaIndex(['27 days', '24 days', '23 days', '22 days', '21 days',\n",
       "                '20 days', '17 days', '16 days', '15 days', '14 days',\n",
       "                '13 days', '10 days',  '9 days',  '8 days',  '7 days',\n",
       "                 '6 days',  '3 days',  '2 days',  '1 days',  '0 days'],\n",
       "               dtype='timedelta64[ns]', name='Date', freq=None)"
      ]
     },
     "execution_count": 11,
     "metadata": {},
     "output_type": "execute_result"
    }
   ],
   "source": [
    "time = expiry-df.index    #Time left in days\n",
    "time"
   ]
  },
  {
   "cell_type": "code",
   "execution_count": 12,
   "metadata": {},
   "outputs": [
    {
     "data": {
      "text/plain": [
       "Int64Index([27, 24, 23, 22, 21, 20, 17, 16, 15, 14, 13, 10, 9, 8, 7, 6, 3, 2,\n",
       "            1, 0],\n",
       "           dtype='int64', name='Date')"
      ]
     },
     "execution_count": 12,
     "metadata": {},
     "output_type": "execute_result"
    }
   ],
   "source": [
    "time = pd.to_timedelta(time, errors='coerce').days  #Time left in days converted to int data type\n",
    "time"
   ]
  },
  {
   "cell_type": "markdown",
   "metadata": {},
   "source": [
    "### Initialising everything required to calculate delta"
   ]
  },
  {
   "cell_type": "code",
   "execution_count": 13,
   "metadata": {},
   "outputs": [],
   "source": [
    "S = df['Open'][0]    #price of the underlying\n",
    "K = 35000   #strike price\n",
    "t = time[0]/365   #time left to expiry in years\n",
    "sigma = vol   #volatility\n",
    "r = 0.06  #risk free rate\n",
    "delta_to_maintain = 0"
   ]
  },
  {
   "cell_type": "markdown",
   "metadata": {},
   "source": [
    "### Initial selling"
   ]
  },
  {
   "cell_type": "code",
   "execution_count": 14,
   "metadata": {},
   "outputs": [],
   "source": [
    "no_of_lots_put = 10\n",
    "sell_avg_put = df_put_35000['Open'][0]\n",
    "lot_size = 25\n",
    "delta = derivatives.delta('p', S, K, t, r, sigma)*no_of_lots_put*lot_size"
   ]
  },
  {
   "cell_type": "code",
   "execution_count": 15,
   "metadata": {},
   "outputs": [
    {
     "data": {
      "text/plain": [
       "-103.43461645722918"
      ]
     },
     "execution_count": 15,
     "metadata": {},
     "output_type": "execute_result"
    }
   ],
   "source": [
    "delta"
   ]
  },
  {
   "cell_type": "code",
   "execution_count": 16,
   "metadata": {},
   "outputs": [
    {
     "data": {
      "text/plain": [
       "14.656538354277082"
      ]
     },
     "execution_count": 16,
     "metadata": {},
     "output_type": "execute_result"
    }
   ],
   "source": [
    "delta_per_lot_call = derivatives.delta('c', S, K, t, r, sigma)*lot_size\n",
    "delta_per_lot_call"
   ]
  },
  {
   "cell_type": "code",
   "execution_count": 17,
   "metadata": {},
   "outputs": [
    {
     "data": {
      "text/plain": [
       "8"
      ]
     },
     "execution_count": 17,
     "metadata": {},
     "output_type": "execute_result"
    }
   ],
   "source": [
    "no_of_lots_call =  math.ceil((delta_to_maintain - delta)/delta_per_lot_call)\n",
    "no_of_lots_call"
   ]
  },
  {
   "cell_type": "code",
   "execution_count": 18,
   "metadata": {},
   "outputs": [
    {
     "data": {
      "text/plain": [
       "1394.65"
      ]
     },
     "execution_count": 18,
     "metadata": {},
     "output_type": "execute_result"
    }
   ],
   "source": [
    "sell_avg_call = df_call_35000['Open'][0]\n",
    "sell_avg_call"
   ]
  },
  {
   "cell_type": "markdown",
   "metadata": {},
   "source": [
    "### Delta Management"
   ]
  },
  {
   "cell_type": "code",
   "execution_count": 19,
   "metadata": {},
   "outputs": [],
   "source": [
    "number_of_lots_call =  math.ceil((delta_to_maintain - delta)/delta_per_lot_call)\n",
    "sell_avg_call = df_call_35000['Open'][0]\n",
    "profit = []\n",
    "for i in range(len(df)-1):\n",
    "    delta = derivatives.delta('p', df['Close'][i], K, time[i]/365, r, sigma)*no_of_lots_put*lot_size\n",
    "    delta_per_lot_call = derivatives.delta('c', df['Close'][i], K, time[i]/365, r, sigma)*lot_size\n",
    "    current_number_of_lots_call = math.ceil((delta_to_maintain-delta)/delta_per_lot_call)\n",
    "    no_of_lots_added = current_number_of_lots_call - number_of_lots_call   #number of lots added/subtracted for selling\n",
    "    sell_avg_call = (sell_avg_call*number_of_lots_call + no_of_lots_added*df_call_35000['Close'][i])/current_number_of_lots_call  #new selling avg of call\n",
    "    number_of_lots_call = current_number_of_lots_call    #updating number of lots of calls sold\n",
    "    profit.append((sell_avg_put - df_put_35000['Close'][i])*no_of_lots_put*lot_size + (sell_avg_call-df_call_35000['Close'][i])*lot_size*number_of_lots_call)\n",
    "    #print(df_put_35000['Close'][i], sell_avg_put, sell_avg_call, df_call_35000['Close'][i], number_of_lots_call)"
   ]
  },
  {
   "cell_type": "code",
   "execution_count": 20,
   "metadata": {},
   "outputs": [],
   "source": [
    "profit.append((sell_avg_put - df_put_35000['Close'][len(df)-1])*no_of_lots_put*lot_size + (sell_avg_call-df_call_35000['Close'][len(df)-1])*lot_size*number_of_lots_call)"
   ]
  },
  {
   "cell_type": "code",
   "execution_count": 21,
   "metadata": {},
   "outputs": [
    {
     "data": {
      "text/plain": [
       "[44432.50000000004,\n",
       " 75670.00000000004,\n",
       " 103776.25000000003,\n",
       " 134101.25000000006,\n",
       " 139231.25,\n",
       " 155336.25,\n",
       " 173938.75000000006,\n",
       " 204183.75,\n",
       " 212380.0,\n",
       " 215035.00000000003,\n",
       " 239940.0,\n",
       " 267456.25,\n",
       " 274581.25,\n",
       " 281151.25,\n",
       " 303076.25,\n",
       " 332570.00000000006,\n",
       " 369955.0,\n",
       " 391562.5,\n",
       " 416448.75,\n",
       " 522823.75000000006]"
      ]
     },
     "execution_count": 21,
     "metadata": {},
     "output_type": "execute_result"
    }
   ],
   "source": [
    "profit"
   ]
  },
  {
   "cell_type": "code",
   "execution_count": 22,
   "metadata": {},
   "outputs": [
    {
     "data": {
      "text/plain": [
       "<matplotlib.legend.Legend at 0x2ae22e098d0>"
      ]
     },
     "execution_count": 22,
     "metadata": {},
     "output_type": "execute_result"
    },
    {
     "data": {
      "image/png": "[encoded data removed]",
      "text/plain": [
       "<Figure size 432x288 with 1 Axes>"
      ]
     },
     "metadata": {
      "needs_background": "light"
     },
     "output_type": "display_data"
    }
   ],
   "source": [
    "plt.plot(profit, label = 'strategy_profit')\n",
    "#plt.plot((df_fut['Close']-df_fut['Open'][0])[:14]*250, label = 'futures_profit')\n",
    "plt.legend()"
   ]
  },
  {
   "cell_type": "markdown",
   "metadata": {},
   "source": [
    "See the results you get by selling calls and puts and just managing delta at end of day"
   ]
  },
  {
   "cell_type": "code",
   "execution_count": null,
   "metadata": {},
   "outputs": [],
   "source": []
  }
 ],
 "metadata": {
  "kernelspec": {
   "display_name": "Python 3",
   "language": "python",
   "name": "python3"
  },
  "language_info": {
   "codemirror_mode": {
    "name": "ipython",
    "version": 3
   },
   "file_extension": ".py",
   "mimetype": "text/x-python",
   "name": "python",
   "nbconvert_exporter": "python",
   "pygments_lexer": "ipython3",
   "version": "3.7.3"
  }
 },
 "nbformat": 4,
 "nbformat_minor": 2
}
